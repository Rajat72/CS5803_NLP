{
 "cells": [
  {
   "cell_type": "markdown",
   "metadata": {},
   "source": [
    "# Assignment 2\n",
    "## Roll Number : CS25MTECH02007\n",
    "## Name : Rajat Maheshwari\n",
    "<hr>\n",
    "\n",
    "# Text Cleaning, and Model Building For Given DataSets\n",
    "\n",
    "## 📝 Assignment Overview\n",
    "In this assignment, I will:\n",
    "1. **Implement** 4 different NLP classification models\n",
    "2. **Clean and harmonize**  Given Data for model building\n",
    "3. Perform **text-based Classification** on the cleaned data to extract insights."
   ]
  },
  {
   "cell_type": "markdown",
   "metadata": {},
   "source": [
    "# Install Modules"
   ]
  },
  {
   "cell_type": "code",
   "execution_count": 26,
   "metadata": {},
   "outputs": [
    {
     "name": "stdout",
     "output_type": "stream",
     "text": [
      "Requirement already satisfied: requests in c:\\users\\rajat\\onedrive\\documents\\iit h\\sem-1\\nlp\\cs5803_nlp\\venv\\lib\\site-packages (from -r requirements.txt (line 1)) (2.32.3)\n",
      "Requirement already satisfied: scikit-learn in c:\\users\\rajat\\onedrive\\documents\\iit h\\sem-1\\nlp\\cs5803_nlp\\venv\\lib\\site-packages (from -r requirements.txt (line 2)) (1.6.1)\n",
      "Requirement already satisfied: beautifulsoup4 in c:\\users\\rajat\\onedrive\\documents\\iit h\\sem-1\\nlp\\cs5803_nlp\\venv\\lib\\site-packages (from -r requirements.txt (line 3)) (4.12.3)\n",
      "Requirement already satisfied: pandas in c:\\users\\rajat\\onedrive\\documents\\iit h\\sem-1\\nlp\\cs5803_nlp\\venv\\lib\\site-packages (from -r requirements.txt (line 4)) (2.2.3)\n",
      "Requirement already satisfied: nltk in c:\\users\\rajat\\onedrive\\documents\\iit h\\sem-1\\nlp\\cs5803_nlp\\venv\\lib\\site-packages (from -r requirements.txt (line 5)) (3.9.1)\n",
      "Requirement already satisfied: spacy in c:\\users\\rajat\\onedrive\\documents\\iit h\\sem-1\\nlp\\cs5803_nlp\\venv\\lib\\site-packages (from -r requirements.txt (line 6)) (3.8.4)\n",
      "Requirement already satisfied: ipykernel in c:\\users\\rajat\\onedrive\\documents\\iit h\\sem-1\\nlp\\cs5803_nlp\\venv\\lib\\site-packages (from -r requirements.txt (line 7)) (6.29.5)\n",
      "Requirement already satisfied: ipywidgets in c:\\users\\rajat\\onedrive\\documents\\iit h\\sem-1\\nlp\\cs5803_nlp\\venv\\lib\\site-packages (from -r requirements.txt (line 8)) (8.1.5)\n",
      "Requirement already satisfied: keras in c:\\users\\rajat\\onedrive\\documents\\iit h\\sem-1\\nlp\\cs5803_nlp\\venv\\lib\\site-packages (from -r requirements.txt (line 9)) (3.8.0)\n",
      "Requirement already satisfied: tensorflow in c:\\users\\rajat\\onedrive\\documents\\iit h\\sem-1\\nlp\\cs5803_nlp\\venv\\lib\\site-packages (from -r requirements.txt (line 10)) (2.18.0)\n",
      "Requirement already satisfied: openpyxl in c:\\users\\rajat\\onedrive\\documents\\iit h\\sem-1\\nlp\\cs5803_nlp\\venv\\lib\\site-packages (from -r requirements.txt (line 11)) (3.1.5)\n",
      "Requirement already satisfied: plotly in c:\\users\\rajat\\onedrive\\documents\\iit h\\sem-1\\nlp\\cs5803_nlp\\venv\\lib\\site-packages (from -r requirements.txt (line 12)) (5.24.1)\n",
      "Requirement already satisfied: charset-normalizer<4,>=2 in c:\\users\\rajat\\onedrive\\documents\\iit h\\sem-1\\nlp\\cs5803_nlp\\venv\\lib\\site-packages (from requests->-r requirements.txt (line 1)) (3.4.1)\n",
      "Requirement already satisfied: idna<4,>=2.5 in c:\\users\\rajat\\onedrive\\documents\\iit h\\sem-1\\nlp\\cs5803_nlp\\venv\\lib\\site-packages (from requests->-r requirements.txt (line 1)) (3.10)\n",
      "Requirement already satisfied: urllib3<3,>=1.21.1 in c:\\users\\rajat\\onedrive\\documents\\iit h\\sem-1\\nlp\\cs5803_nlp\\venv\\lib\\site-packages (from requests->-r requirements.txt (line 1)) (2.3.0)\n",
      "Requirement already satisfied: certifi>=2017.4.17 in c:\\users\\rajat\\onedrive\\documents\\iit h\\sem-1\\nlp\\cs5803_nlp\\venv\\lib\\site-packages (from requests->-r requirements.txt (line 1)) (2024.12.14)\n",
      "Requirement already satisfied: numpy>=1.19.5 in c:\\users\\rajat\\onedrive\\documents\\iit h\\sem-1\\nlp\\cs5803_nlp\\venv\\lib\\site-packages (from scikit-learn->-r requirements.txt (line 2)) (2.0.2)\n",
      "Requirement already satisfied: scipy>=1.6.0 in c:\\users\\rajat\\onedrive\\documents\\iit h\\sem-1\\nlp\\cs5803_nlp\\venv\\lib\\site-packages (from scikit-learn->-r requirements.txt (line 2)) (1.15.2)\n",
      "Requirement already satisfied: joblib>=1.2.0 in c:\\users\\rajat\\onedrive\\documents\\iit h\\sem-1\\nlp\\cs5803_nlp\\venv\\lib\\site-packages (from scikit-learn->-r requirements.txt (line 2)) (1.4.2)\n",
      "Requirement already satisfied: threadpoolctl>=3.1.0 in c:\\users\\rajat\\onedrive\\documents\\iit h\\sem-1\\nlp\\cs5803_nlp\\venv\\lib\\site-packages (from scikit-learn->-r requirements.txt (line 2)) (3.5.0)\n",
      "Requirement already satisfied: soupsieve>1.2 in c:\\users\\rajat\\onedrive\\documents\\iit h\\sem-1\\nlp\\cs5803_nlp\\venv\\lib\\site-packages (from beautifulsoup4->-r requirements.txt (line 3)) (2.6)\n",
      "Requirement already satisfied: python-dateutil>=2.8.2 in c:\\users\\rajat\\onedrive\\documents\\iit h\\sem-1\\nlp\\cs5803_nlp\\venv\\lib\\site-packages (from pandas->-r requirements.txt (line 4)) (2.9.0.post0)\n",
      "Requirement already satisfied: pytz>=2020.1 in c:\\users\\rajat\\onedrive\\documents\\iit h\\sem-1\\nlp\\cs5803_nlp\\venv\\lib\\site-packages (from pandas->-r requirements.txt (line 4)) (2024.2)\n",
      "Requirement already satisfied: tzdata>=2022.7 in c:\\users\\rajat\\onedrive\\documents\\iit h\\sem-1\\nlp\\cs5803_nlp\\venv\\lib\\site-packages (from pandas->-r requirements.txt (line 4)) (2025.1)\n",
      "Requirement already satisfied: click in c:\\users\\rajat\\onedrive\\documents\\iit h\\sem-1\\nlp\\cs5803_nlp\\venv\\lib\\site-packages (from nltk->-r requirements.txt (line 5)) (8.1.8)\n",
      "Requirement already satisfied: regex>=2021.8.3 in c:\\users\\rajat\\onedrive\\documents\\iit h\\sem-1\\nlp\\cs5803_nlp\\venv\\lib\\site-packages (from nltk->-r requirements.txt (line 5)) (2024.11.6)\n",
      "Requirement already satisfied: tqdm in c:\\users\\rajat\\onedrive\\documents\\iit h\\sem-1\\nlp\\cs5803_nlp\\venv\\lib\\site-packages (from nltk->-r requirements.txt (line 5)) (4.67.1)\n",
      "Requirement already satisfied: spacy-legacy<3.1.0,>=3.0.11 in c:\\users\\rajat\\onedrive\\documents\\iit h\\sem-1\\nlp\\cs5803_nlp\\venv\\lib\\site-packages (from spacy->-r requirements.txt (line 6)) (3.0.12)\n",
      "Requirement already satisfied: spacy-loggers<2.0.0,>=1.0.0 in c:\\users\\rajat\\onedrive\\documents\\iit h\\sem-1\\nlp\\cs5803_nlp\\venv\\lib\\site-packages (from spacy->-r requirements.txt (line 6)) (1.0.5)\n",
      "Requirement already satisfied: murmurhash<1.1.0,>=0.28.0 in c:\\users\\rajat\\onedrive\\documents\\iit h\\sem-1\\nlp\\cs5803_nlp\\venv\\lib\\site-packages (from spacy->-r requirements.txt (line 6)) (1.0.12)\n",
      "Requirement already satisfied: cymem<2.1.0,>=2.0.2 in c:\\users\\rajat\\onedrive\\documents\\iit h\\sem-1\\nlp\\cs5803_nlp\\venv\\lib\\site-packages (from spacy->-r requirements.txt (line 6)) (2.0.11)\n",
      "Requirement already satisfied: preshed<3.1.0,>=3.0.2 in c:\\users\\rajat\\onedrive\\documents\\iit h\\sem-1\\nlp\\cs5803_nlp\\venv\\lib\\site-packages (from spacy->-r requirements.txt (line 6)) (3.0.9)\n",
      "Requirement already satisfied: thinc<8.4.0,>=8.3.4 in c:\\users\\rajat\\onedrive\\documents\\iit h\\sem-1\\nlp\\cs5803_nlp\\venv\\lib\\site-packages (from spacy->-r requirements.txt (line 6)) (8.3.4)\n",
      "Requirement already satisfied: wasabi<1.2.0,>=0.9.1 in c:\\users\\rajat\\onedrive\\documents\\iit h\\sem-1\\nlp\\cs5803_nlp\\venv\\lib\\site-packages (from spacy->-r requirements.txt (line 6)) (1.1.3)\n",
      "Requirement already satisfied: srsly<3.0.0,>=2.4.3 in c:\\users\\rajat\\onedrive\\documents\\iit h\\sem-1\\nlp\\cs5803_nlp\\venv\\lib\\site-packages (from spacy->-r requirements.txt (line 6)) (2.5.1)\n",
      "Requirement already satisfied: catalogue<2.1.0,>=2.0.6 in c:\\users\\rajat\\onedrive\\documents\\iit h\\sem-1\\nlp\\cs5803_nlp\\venv\\lib\\site-packages (from spacy->-r requirements.txt (line 6)) (2.0.10)\n",
      "Requirement already satisfied: weasel<0.5.0,>=0.1.0 in c:\\users\\rajat\\onedrive\\documents\\iit h\\sem-1\\nlp\\cs5803_nlp\\venv\\lib\\site-packages (from spacy->-r requirements.txt (line 6)) (0.4.1)\n",
      "Requirement already satisfied: typer<1.0.0,>=0.3.0 in c:\\users\\rajat\\onedrive\\documents\\iit h\\sem-1\\nlp\\cs5803_nlp\\venv\\lib\\site-packages (from spacy->-r requirements.txt (line 6)) (0.15.1)\n",
      "Requirement already satisfied: pydantic!=1.8,!=1.8.1,<3.0.0,>=1.7.4 in c:\\users\\rajat\\onedrive\\documents\\iit h\\sem-1\\nlp\\cs5803_nlp\\venv\\lib\\site-packages (from spacy->-r requirements.txt (line 6)) (2.10.5)\n",
      "Requirement already satisfied: jinja2 in c:\\users\\rajat\\onedrive\\documents\\iit h\\sem-1\\nlp\\cs5803_nlp\\venv\\lib\\site-packages (from spacy->-r requirements.txt (line 6)) (3.1.5)\n",
      "Requirement already satisfied: setuptools in c:\\users\\rajat\\onedrive\\documents\\iit h\\sem-1\\nlp\\cs5803_nlp\\venv\\lib\\site-packages (from spacy->-r requirements.txt (line 6)) (75.8.0)\n",
      "Requirement already satisfied: packaging>=20.0 in c:\\users\\rajat\\onedrive\\documents\\iit h\\sem-1\\nlp\\cs5803_nlp\\venv\\lib\\site-packages (from spacy->-r requirements.txt (line 6)) (24.2)\n",
      "Requirement already satisfied: langcodes<4.0.0,>=3.2.0 in c:\\users\\rajat\\onedrive\\documents\\iit h\\sem-1\\nlp\\cs5803_nlp\\venv\\lib\\site-packages (from spacy->-r requirements.txt (line 6)) (3.5.0)\n",
      "Requirement already satisfied: comm>=0.1.1 in c:\\users\\rajat\\onedrive\\documents\\iit h\\sem-1\\nlp\\cs5803_nlp\\venv\\lib\\site-packages (from ipykernel->-r requirements.txt (line 7)) (0.2.2)\n",
      "Requirement already satisfied: debugpy>=1.6.5 in c:\\users\\rajat\\onedrive\\documents\\iit h\\sem-1\\nlp\\cs5803_nlp\\venv\\lib\\site-packages (from ipykernel->-r requirements.txt (line 7)) (1.8.12)\n",
      "Requirement already satisfied: ipython>=7.23.1 in c:\\users\\rajat\\onedrive\\documents\\iit h\\sem-1\\nlp\\cs5803_nlp\\venv\\lib\\site-packages (from ipykernel->-r requirements.txt (line 7)) (8.31.0)\n",
      "Requirement already satisfied: jupyter-client>=6.1.12 in c:\\users\\rajat\\onedrive\\documents\\iit h\\sem-1\\nlp\\cs5803_nlp\\venv\\lib\\site-packages (from ipykernel->-r requirements.txt (line 7)) (8.6.3)\n",
      "Requirement already satisfied: jupyter-core!=5.0.*,>=4.12 in c:\\users\\rajat\\onedrive\\documents\\iit h\\sem-1\\nlp\\cs5803_nlp\\venv\\lib\\site-packages (from ipykernel->-r requirements.txt (line 7)) (5.7.2)\n",
      "Requirement already satisfied: matplotlib-inline>=0.1 in c:\\users\\rajat\\onedrive\\documents\\iit h\\sem-1\\nlp\\cs5803_nlp\\venv\\lib\\site-packages (from ipykernel->-r requirements.txt (line 7)) (0.1.7)\n",
      "Requirement already satisfied: nest-asyncio in c:\\users\\rajat\\onedrive\\documents\\iit h\\sem-1\\nlp\\cs5803_nlp\\venv\\lib\\site-packages (from ipykernel->-r requirements.txt (line 7)) (1.6.0)\n",
      "Requirement already satisfied: psutil in c:\\users\\rajat\\onedrive\\documents\\iit h\\sem-1\\nlp\\cs5803_nlp\\venv\\lib\\site-packages (from ipykernel->-r requirements.txt (line 7)) (6.1.1)\n",
      "Requirement already satisfied: pyzmq>=24 in c:\\users\\rajat\\onedrive\\documents\\iit h\\sem-1\\nlp\\cs5803_nlp\\venv\\lib\\site-packages (from ipykernel->-r requirements.txt (line 7)) (26.2.0)\n",
      "Requirement already satisfied: tornado>=6.1 in c:\\users\\rajat\\onedrive\\documents\\iit h\\sem-1\\nlp\\cs5803_nlp\\venv\\lib\\site-packages (from ipykernel->-r requirements.txt (line 7)) (6.4.2)\n",
      "Requirement already satisfied: traitlets>=5.4.0 in c:\\users\\rajat\\onedrive\\documents\\iit h\\sem-1\\nlp\\cs5803_nlp\\venv\\lib\\site-packages (from ipykernel->-r requirements.txt (line 7)) (5.14.3)\n",
      "Requirement already satisfied: widgetsnbextension~=4.0.12 in c:\\users\\rajat\\onedrive\\documents\\iit h\\sem-1\\nlp\\cs5803_nlp\\venv\\lib\\site-packages (from ipywidgets->-r requirements.txt (line 8)) (4.0.13)\n",
      "Requirement already satisfied: jupyterlab-widgets~=3.0.12 in c:\\users\\rajat\\onedrive\\documents\\iit h\\sem-1\\nlp\\cs5803_nlp\\venv\\lib\\site-packages (from ipywidgets->-r requirements.txt (line 8)) (3.0.13)\n",
      "Requirement already satisfied: absl-py in c:\\users\\rajat\\onedrive\\documents\\iit h\\sem-1\\nlp\\cs5803_nlp\\venv\\lib\\site-packages (from keras->-r requirements.txt (line 9)) (2.1.0)\n",
      "Requirement already satisfied: rich in c:\\users\\rajat\\onedrive\\documents\\iit h\\sem-1\\nlp\\cs5803_nlp\\venv\\lib\\site-packages (from keras->-r requirements.txt (line 9)) (13.9.4)\n",
      "Requirement already satisfied: namex in c:\\users\\rajat\\onedrive\\documents\\iit h\\sem-1\\nlp\\cs5803_nlp\\venv\\lib\\site-packages (from keras->-r requirements.txt (line 9)) (0.0.8)\n",
      "Requirement already satisfied: h5py in c:\\users\\rajat\\onedrive\\documents\\iit h\\sem-1\\nlp\\cs5803_nlp\\venv\\lib\\site-packages (from keras->-r requirements.txt (line 9)) (3.13.0)\n",
      "Requirement already satisfied: optree in c:\\users\\rajat\\onedrive\\documents\\iit h\\sem-1\\nlp\\cs5803_nlp\\venv\\lib\\site-packages (from keras->-r requirements.txt (line 9)) (0.14.0)\n",
      "Requirement already satisfied: ml-dtypes in c:\\users\\rajat\\onedrive\\documents\\iit h\\sem-1\\nlp\\cs5803_nlp\\venv\\lib\\site-packages (from keras->-r requirements.txt (line 9)) (0.4.1)\n",
      "Requirement already satisfied: tensorflow-intel==2.18.0 in c:\\users\\rajat\\onedrive\\documents\\iit h\\sem-1\\nlp\\cs5803_nlp\\venv\\lib\\site-packages (from tensorflow->-r requirements.txt (line 10)) (2.18.0)\n",
      "Requirement already satisfied: astunparse>=1.6.0 in c:\\users\\rajat\\onedrive\\documents\\iit h\\sem-1\\nlp\\cs5803_nlp\\venv\\lib\\site-packages (from tensorflow-intel==2.18.0->tensorflow->-r requirements.txt (line 10)) (1.6.3)\n",
      "Requirement already satisfied: flatbuffers>=24.3.25 in c:\\users\\rajat\\onedrive\\documents\\iit h\\sem-1\\nlp\\cs5803_nlp\\venv\\lib\\site-packages (from tensorflow-intel==2.18.0->tensorflow->-r requirements.txt (line 10)) (25.2.10)\n",
      "Requirement already satisfied: gast!=0.5.0,!=0.5.1,!=0.5.2,>=0.2.1 in c:\\users\\rajat\\onedrive\\documents\\iit h\\sem-1\\nlp\\cs5803_nlp\\venv\\lib\\site-packages (from tensorflow-intel==2.18.0->tensorflow->-r requirements.txt (line 10)) (0.6.0)\n",
      "Requirement already satisfied: google-pasta>=0.1.1 in c:\\users\\rajat\\onedrive\\documents\\iit h\\sem-1\\nlp\\cs5803_nlp\\venv\\lib\\site-packages (from tensorflow-intel==2.18.0->tensorflow->-r requirements.txt (line 10)) (0.2.0)\n",
      "Requirement already satisfied: libclang>=13.0.0 in c:\\users\\rajat\\onedrive\\documents\\iit h\\sem-1\\nlp\\cs5803_nlp\\venv\\lib\\site-packages (from tensorflow-intel==2.18.0->tensorflow->-r requirements.txt (line 10)) (18.1.1)\n",
      "Requirement already satisfied: opt-einsum>=2.3.2 in c:\\users\\rajat\\onedrive\\documents\\iit h\\sem-1\\nlp\\cs5803_nlp\\venv\\lib\\site-packages (from tensorflow-intel==2.18.0->tensorflow->-r requirements.txt (line 10)) (3.4.0)\n",
      "Requirement already satisfied: protobuf!=4.21.0,!=4.21.1,!=4.21.2,!=4.21.3,!=4.21.4,!=4.21.5,<6.0.0dev,>=3.20.3 in c:\\users\\rajat\\onedrive\\documents\\iit h\\sem-1\\nlp\\cs5803_nlp\\venv\\lib\\site-packages (from tensorflow-intel==2.18.0->tensorflow->-r requirements.txt (line 10)) (5.29.3)\n",
      "Requirement already satisfied: six>=1.12.0 in c:\\users\\rajat\\onedrive\\documents\\iit h\\sem-1\\nlp\\cs5803_nlp\\venv\\lib\\site-packages (from tensorflow-intel==2.18.0->tensorflow->-r requirements.txt (line 10)) (1.17.0)\n",
      "Requirement already satisfied: termcolor>=1.1.0 in c:\\users\\rajat\\onedrive\\documents\\iit h\\sem-1\\nlp\\cs5803_nlp\\venv\\lib\\site-packages (from tensorflow-intel==2.18.0->tensorflow->-r requirements.txt (line 10)) (2.5.0)\n",
      "Requirement already satisfied: typing-extensions>=3.6.6 in c:\\users\\rajat\\onedrive\\documents\\iit h\\sem-1\\nlp\\cs5803_nlp\\venv\\lib\\site-packages (from tensorflow-intel==2.18.0->tensorflow->-r requirements.txt (line 10)) (4.12.2)\n",
      "Requirement already satisfied: wrapt>=1.11.0 in c:\\users\\rajat\\onedrive\\documents\\iit h\\sem-1\\nlp\\cs5803_nlp\\venv\\lib\\site-packages (from tensorflow-intel==2.18.0->tensorflow->-r requirements.txt (line 10)) (1.17.2)\n",
      "Requirement already satisfied: grpcio<2.0,>=1.24.3 in c:\\users\\rajat\\onedrive\\documents\\iit h\\sem-1\\nlp\\cs5803_nlp\\venv\\lib\\site-packages (from tensorflow-intel==2.18.0->tensorflow->-r requirements.txt (line 10)) (1.70.0)\n",
      "Requirement already satisfied: tensorboard<2.19,>=2.18 in c:\\users\\rajat\\onedrive\\documents\\iit h\\sem-1\\nlp\\cs5803_nlp\\venv\\lib\\site-packages (from tensorflow-intel==2.18.0->tensorflow->-r requirements.txt (line 10)) (2.18.0)\n",
      "Requirement already satisfied: et-xmlfile in c:\\users\\rajat\\onedrive\\documents\\iit h\\sem-1\\nlp\\cs5803_nlp\\venv\\lib\\site-packages (from openpyxl->-r requirements.txt (line 11)) (2.0.0)\n",
      "Requirement already satisfied: tenacity>=6.2.0 in c:\\users\\rajat\\onedrive\\documents\\iit h\\sem-1\\nlp\\cs5803_nlp\\venv\\lib\\site-packages (from plotly->-r requirements.txt (line 12)) (9.0.0)\n",
      "Requirement already satisfied: colorama in c:\\users\\rajat\\onedrive\\documents\\iit h\\sem-1\\nlp\\cs5803_nlp\\venv\\lib\\site-packages (from ipython>=7.23.1->ipykernel->-r requirements.txt (line 7)) (0.4.6)\n",
      "Requirement already satisfied: decorator in c:\\users\\rajat\\onedrive\\documents\\iit h\\sem-1\\nlp\\cs5803_nlp\\venv\\lib\\site-packages (from ipython>=7.23.1->ipykernel->-r requirements.txt (line 7)) (5.1.1)\n",
      "Requirement already satisfied: jedi>=0.16 in c:\\users\\rajat\\onedrive\\documents\\iit h\\sem-1\\nlp\\cs5803_nlp\\venv\\lib\\site-packages (from ipython>=7.23.1->ipykernel->-r requirements.txt (line 7)) (0.19.2)\n",
      "Requirement already satisfied: prompt_toolkit<3.1.0,>=3.0.41 in c:\\users\\rajat\\onedrive\\documents\\iit h\\sem-1\\nlp\\cs5803_nlp\\venv\\lib\\site-packages (from ipython>=7.23.1->ipykernel->-r requirements.txt (line 7)) (3.0.50)\n",
      "Requirement already satisfied: pygments>=2.4.0 in c:\\users\\rajat\\onedrive\\documents\\iit h\\sem-1\\nlp\\cs5803_nlp\\venv\\lib\\site-packages (from ipython>=7.23.1->ipykernel->-r requirements.txt (line 7)) (2.19.1)\n",
      "Requirement already satisfied: stack_data in c:\\users\\rajat\\onedrive\\documents\\iit h\\sem-1\\nlp\\cs5803_nlp\\venv\\lib\\site-packages (from ipython>=7.23.1->ipykernel->-r requirements.txt (line 7)) (0.6.3)\n",
      "Requirement already satisfied: platformdirs>=2.5 in c:\\users\\rajat\\onedrive\\documents\\iit h\\sem-1\\nlp\\cs5803_nlp\\venv\\lib\\site-packages (from jupyter-core!=5.0.*,>=4.12->ipykernel->-r requirements.txt (line 7)) (4.3.6)\n",
      "Requirement already satisfied: pywin32>=300 in c:\\users\\rajat\\onedrive\\documents\\iit h\\sem-1\\nlp\\cs5803_nlp\\venv\\lib\\site-packages (from jupyter-core!=5.0.*,>=4.12->ipykernel->-r requirements.txt (line 7)) (308)\n",
      "Requirement already satisfied: language-data>=1.2 in c:\\users\\rajat\\onedrive\\documents\\iit h\\sem-1\\nlp\\cs5803_nlp\\venv\\lib\\site-packages (from langcodes<4.0.0,>=3.2.0->spacy->-r requirements.txt (line 6)) (1.3.0)\n",
      "Requirement already satisfied: annotated-types>=0.6.0 in c:\\users\\rajat\\onedrive\\documents\\iit h\\sem-1\\nlp\\cs5803_nlp\\venv\\lib\\site-packages (from pydantic!=1.8,!=1.8.1,<3.0.0,>=1.7.4->spacy->-r requirements.txt (line 6)) (0.7.0)\n",
      "Requirement already satisfied: pydantic-core==2.27.2 in c:\\users\\rajat\\onedrive\\documents\\iit h\\sem-1\\nlp\\cs5803_nlp\\venv\\lib\\site-packages (from pydantic!=1.8,!=1.8.1,<3.0.0,>=1.7.4->spacy->-r requirements.txt (line 6)) (2.27.2)\n",
      "Requirement already satisfied: blis<1.3.0,>=1.2.0 in c:\\users\\rajat\\onedrive\\documents\\iit h\\sem-1\\nlp\\cs5803_nlp\\venv\\lib\\site-packages (from thinc<8.4.0,>=8.3.4->spacy->-r requirements.txt (line 6)) (1.2.0)\n",
      "Requirement already satisfied: confection<1.0.0,>=0.0.1 in c:\\users\\rajat\\onedrive\\documents\\iit h\\sem-1\\nlp\\cs5803_nlp\\venv\\lib\\site-packages (from thinc<8.4.0,>=8.3.4->spacy->-r requirements.txt (line 6)) (0.1.5)\n",
      "Requirement already satisfied: shellingham>=1.3.0 in c:\\users\\rajat\\onedrive\\documents\\iit h\\sem-1\\nlp\\cs5803_nlp\\venv\\lib\\site-packages (from typer<1.0.0,>=0.3.0->spacy->-r requirements.txt (line 6)) (1.5.4)\n",
      "Requirement already satisfied: markdown-it-py>=2.2.0 in c:\\users\\rajat\\onedrive\\documents\\iit h\\sem-1\\nlp\\cs5803_nlp\\venv\\lib\\site-packages (from rich->keras->-r requirements.txt (line 9)) (3.0.0)\n",
      "Requirement already satisfied: cloudpathlib<1.0.0,>=0.7.0 in c:\\users\\rajat\\onedrive\\documents\\iit h\\sem-1\\nlp\\cs5803_nlp\\venv\\lib\\site-packages (from weasel<0.5.0,>=0.1.0->spacy->-r requirements.txt (line 6)) (0.20.0)\n",
      "Requirement already satisfied: smart-open<8.0.0,>=5.2.1 in c:\\users\\rajat\\onedrive\\documents\\iit h\\sem-1\\nlp\\cs5803_nlp\\venv\\lib\\site-packages (from weasel<0.5.0,>=0.1.0->spacy->-r requirements.txt (line 6)) (7.1.0)\n",
      "Requirement already satisfied: MarkupSafe>=2.0 in c:\\users\\rajat\\onedrive\\documents\\iit h\\sem-1\\nlp\\cs5803_nlp\\venv\\lib\\site-packages (from jinja2->spacy->-r requirements.txt (line 6)) (3.0.2)\n",
      "Requirement already satisfied: wheel<1.0,>=0.23.0 in c:\\users\\rajat\\onedrive\\documents\\iit h\\sem-1\\nlp\\cs5803_nlp\\venv\\lib\\site-packages (from astunparse>=1.6.0->tensorflow-intel==2.18.0->tensorflow->-r requirements.txt (line 10)) (0.45.1)\n",
      "Requirement already satisfied: parso<0.9.0,>=0.8.4 in c:\\users\\rajat\\onedrive\\documents\\iit h\\sem-1\\nlp\\cs5803_nlp\\venv\\lib\\site-packages (from jedi>=0.16->ipython>=7.23.1->ipykernel->-r requirements.txt (line 7)) (0.8.4)\n",
      "Requirement already satisfied: marisa-trie>=1.1.0 in c:\\users\\rajat\\onedrive\\documents\\iit h\\sem-1\\nlp\\cs5803_nlp\\venv\\lib\\site-packages (from language-data>=1.2->langcodes<4.0.0,>=3.2.0->spacy->-r requirements.txt (line 6)) (1.2.1)\n",
      "Requirement already satisfied: mdurl~=0.1 in c:\\users\\rajat\\onedrive\\documents\\iit h\\sem-1\\nlp\\cs5803_nlp\\venv\\lib\\site-packages (from markdown-it-py>=2.2.0->rich->keras->-r requirements.txt (line 9)) (0.1.2)\n",
      "Requirement already satisfied: wcwidth in c:\\users\\rajat\\onedrive\\documents\\iit h\\sem-1\\nlp\\cs5803_nlp\\venv\\lib\\site-packages (from prompt_toolkit<3.1.0,>=3.0.41->ipython>=7.23.1->ipykernel->-r requirements.txt (line 7)) (0.2.13)\n",
      "Requirement already satisfied: markdown>=2.6.8 in c:\\users\\rajat\\onedrive\\documents\\iit h\\sem-1\\nlp\\cs5803_nlp\\venv\\lib\\site-packages (from tensorboard<2.19,>=2.18->tensorflow-intel==2.18.0->tensorflow->-r requirements.txt (line 10)) (3.7)\n",
      "Requirement already satisfied: tensorboard-data-server<0.8.0,>=0.7.0 in c:\\users\\rajat\\onedrive\\documents\\iit h\\sem-1\\nlp\\cs5803_nlp\\venv\\lib\\site-packages (from tensorboard<2.19,>=2.18->tensorflow-intel==2.18.0->tensorflow->-r requirements.txt (line 10)) (0.7.2)\n",
      "Requirement already satisfied: werkzeug>=1.0.1 in c:\\users\\rajat\\onedrive\\documents\\iit h\\sem-1\\nlp\\cs5803_nlp\\venv\\lib\\site-packages (from tensorboard<2.19,>=2.18->tensorflow-intel==2.18.0->tensorflow->-r requirements.txt (line 10)) (3.1.3)\n",
      "Requirement already satisfied: executing>=1.2.0 in c:\\users\\rajat\\onedrive\\documents\\iit h\\sem-1\\nlp\\cs5803_nlp\\venv\\lib\\site-packages (from stack_data->ipython>=7.23.1->ipykernel->-r requirements.txt (line 7)) (2.2.0)\n",
      "Requirement already satisfied: asttokens>=2.1.0 in c:\\users\\rajat\\onedrive\\documents\\iit h\\sem-1\\nlp\\cs5803_nlp\\venv\\lib\\site-packages (from stack_data->ipython>=7.23.1->ipykernel->-r requirements.txt (line 7)) (3.0.0)\n",
      "Requirement already satisfied: pure-eval in c:\\users\\rajat\\onedrive\\documents\\iit h\\sem-1\\nlp\\cs5803_nlp\\venv\\lib\\site-packages (from stack_data->ipython>=7.23.1->ipykernel->-r requirements.txt (line 7)) (0.2.3)\n"
     ]
    }
   ],
   "source": [
    "! pip install -r requirements.txt"
   ]
  },
  {
   "cell_type": "markdown",
   "metadata": {},
   "source": [
    "# Necessary Imports"
   ]
  },
  {
   "cell_type": "code",
   "execution_count": 27,
   "metadata": {},
   "outputs": [],
   "source": [
    "from sklearn.preprocessing import OneHotEncoder\n",
    "import pandas as pd\n",
    "import numpy as np\n",
    "import re\n",
    "import urllib\n",
    "import unicodedata\n",
    "import urllib.parse\n",
    "import nltk\n",
    "import tensorflow as tf\n",
    "from tensorflow.keras import layers, Model,callbacks\n",
    "from sklearn.model_selection import train_test_split\n",
    "from tensorflow.keras.layers import TextVectorization\n",
    "import plotly.graph_objects as go\n",
    "from plotly.subplots import make_subplots\n",
    "import matplotlib.pyplot as plt"
   ]
  },
  {
   "cell_type": "markdown",
   "metadata": {},
   "source": [
    "## NLTK Downloads"
   ]
  },
  {
   "cell_type": "code",
   "execution_count": 28,
   "metadata": {},
   "outputs": [
    {
     "name": "stderr",
     "output_type": "stream",
     "text": [
      "[nltk_data] Downloading package punkt_tab to\n",
      "[nltk_data]     C:\\Users\\rajat\\AppData\\Roaming\\nltk_data...\n",
      "[nltk_data]   Package punkt_tab is already up-to-date!\n",
      "[nltk_data] Downloading package stopwords to\n",
      "[nltk_data]     C:\\Users\\rajat\\AppData\\Roaming\\nltk_data...\n",
      "[nltk_data]   Package stopwords is already up-to-date!\n",
      "[nltk_data] Downloading package wordnet to\n",
      "[nltk_data]     C:\\Users\\rajat\\AppData\\Roaming\\nltk_data...\n",
      "[nltk_data]   Package wordnet is already up-to-date!\n",
      "[nltk_data] Downloading package omw-1.4 to\n",
      "[nltk_data]     C:\\Users\\rajat\\AppData\\Roaming\\nltk_data...\n",
      "[nltk_data]   Package omw-1.4 is already up-to-date!\n",
      "[nltk_data] Downloading package punkt to\n",
      "[nltk_data]     C:\\Users\\rajat\\AppData\\Roaming\\nltk_data...\n",
      "[nltk_data]   Package punkt is already up-to-date!\n",
      "[nltk_data] Downloading package averaged_perceptron_tagger_eng to\n",
      "[nltk_data]     C:\\Users\\rajat\\AppData\\Roaming\\nltk_data...\n",
      "[nltk_data]   Package averaged_perceptron_tagger_eng is already up-to-\n",
      "[nltk_data]       date!\n"
     ]
    },
    {
     "data": {
      "text/plain": [
       "True"
      ]
     },
     "execution_count": 28,
     "metadata": {},
     "output_type": "execute_result"
    }
   ],
   "source": [
    "nltk.download('punkt_tab')\n",
    "nltk.download('stopwords')\n",
    "nltk.download('wordnet')\n",
    "nltk.download('omw-1.4')\n",
    "nltk.download('punkt')\n",
    "nltk.download('averaged_perceptron_tagger_eng')"
   ]
  },
  {
   "cell_type": "markdown",
   "metadata": {},
   "source": [
    "## NLTK Imports"
   ]
  },
  {
   "cell_type": "code",
   "execution_count": 29,
   "metadata": {},
   "outputs": [],
   "source": [
    "from nltk.corpus import stopwords, wordnet\n",
    "from nltk.tokenize import word_tokenize\n",
    "from nltk.stem import WordNetLemmatizer"
   ]
  },
  {
   "cell_type": "markdown",
   "metadata": {},
   "source": [
    "## Text Cleaner Class"
   ]
  },
  {
   "cell_type": "code",
   "execution_count": 30,
   "metadata": {},
   "outputs": [],
   "source": [
    "class TextCleaner:\n",
    "    def __init__(self):\n",
    "        # Initialize our regex detectives - these patterns help sniff out specfic data types\n",
    "        self.json_pattern = re.compile(r'\\{[^}]+\\}', re.DOTALL)  # Catches JSON blobs like {key:val}\n",
    "        self.math_pattern = re.compile(r'\\$.*?\\$', re.DOTALL)     # Finds mathy stuff between $$\n",
    "        self.control_chars = re.compile(r\"[\\x00-\\x09\\x0B\\x0C\\x0E-\\x1F\\x7F-\\x9F]\")  # Weird control chars\n",
    "        self.extra_newlines = re.compile(r'\\n{9,}')  \n",
    "        self.non_word_chars = re.compile(r\"[^\\w\\s]\")  # Non-word chars except spaces\n",
    "        self.multi_space = re.compile(r\" +\")  # Squash multiple spacces\n",
    "\n",
    "        # Set up NLP tools - lemmatizer for word roots, stopwords for common junk\n",
    "        self.lemmatizer = WordNetLemmatizer()  # Makes words their base form (better -> good)\n",
    "        self.stop_words = set(stopwords.words('english'))  # Common words like 'the', 'and'\n",
    "\n",
    "    def _get_wordnet_pos(self, treebank_tag):\n",
    "        # Helper to convert POS tags to wordnet format. Treebank tags are confusing TBH\n",
    "        return {\n",
    "            'J': wordnet.ADJ,  # Adjectives\n",
    "            'V': wordnet.VERB,  # Verbs\n",
    "            'R': wordnet.ADV  # Adverbs\n",
    "        }.get(treebank_tag[0], wordnet.NOUN)  # Default to noun if no match\n",
    "\n",
    "    def lemmatize_text(self, text, use_pos=True):\n",
    "        \"\"\"Turns words to their dictionary form. POS tagging helps accuracy but costs speed.\"\"\"\n",
    "        try:\n",
    "            tokens = word_tokenize(text)  # Split text into words\n",
    "            \n",
    "            if use_pos:  \n",
    "                pos_tags = nltk.pos_tag(tokens)  # Get grammar tags\n",
    "                return ' '.join([\n",
    "                    self.lemmatizer.lemmatize(word, self._get_wordnet_pos(tag))\n",
    "                    for word, tag in pos_tags  # Process each word with its tag\n",
    "                ])\n",
    "            else:\n",
    "                return ' '.join([self.lemmatizer.lemmatize(word) for word in tokens])\n",
    "        except Exception as e:\n",
    "            print(f\"Lemmatization oopsie: {str(e)}\")  # Log but don't crash\n",
    "            return text  # Return original if things go south\n",
    "\n",
    "    def remove_numbers(self, text):\n",
    "        \"\"\"Kicks out lonely numbers but keeps words with numbers (like B2B)\"\"\"\n",
    "        return re.sub(r'\\b\\d+\\b', '', text)  # \\b means word boundary\n",
    "\n",
    "    def clean_text(self, text):\n",
    "        \"\"\"Main scrubber - handles encoding weirdness and special characters\"\"\"\n",
    "        try:\n",
    "            text = self.control_chars.sub(\" \", text)  # Remove control chars\n",
    "            text = unicodedata.normalize(\"NFKD\", text)  # Standardize fancy unicode\n",
    "            text = text.replace(\"\\u2022\", \"\\n- \").replace(\"\\xa0\", \" \")  # Bullets to dashes\n",
    "            text = self.non_word_chars.sub(\" \", text)  # Replace punctuation\n",
    "            text = text.encode(\"ascii\", \"ignore\").decode(\"utf-8\")  # Force ASCII\n",
    "            text = self.extra_newlines.sub(\"\\n\\n\", text)  # Limit excessive newlines\n",
    "            return self.multi_space.sub(\" \", text).strip()  # Clean up spaces\n",
    "        except Exception as e:\n",
    "            print(f\"Cleaner tripped up: {str(e)}\")  # Non-fatal error\n",
    "            return text\n",
    "        \n",
    "    def clean_ratings(self, text):\n",
    "        \"\"\"Swaps number+letter counts like 12M → COUNT. Handy for review data\"\"\"\n",
    "        return re.sub(r'\\b\\d+[MK]\\b', 'COUNT', text, flags=re.IGNORECASE) \n",
    "    \n",
    "    def clean_durations(self, text):\n",
    "        \"\"\"Converts time formats like 2h 30m → Duration\"\"\"\n",
    "        return re.sub(r'\\b\\d+h\\s\\d+m\\b', 'Duration', text, flags=re.IGNORECASE)\n",
    "\n",
    "    def full_clean(self, text, is_title=False, remove_stopwords=True, \n",
    "                    lemmatize=True, remove_numbers=False,remove_duration=False,remove_rating=False):\n",
    "            \"\"\"\n",
    "            Master cleaning pipeline with toggleable features. Goes from raw text → squeaky clean.\n",
    "            \n",
    "            Params:\n",
    "            - is_title: Special handling for titles/headers\n",
    "            - remove_stopwords: Cut common words (the, a, etc)\n",
    "            - lemmatize: Reduce words to base form\n",
    "            - remove_numbers: Strip standalone numbers\n",
    "            \"\"\"\n",
    "            try:\n",
    "                # Phase 1: Structure cleanup\n",
    "                text = self.json_pattern.sub('', text)  # remove JSON objects\n",
    "                text = self.math_pattern.sub('Mathemtical Expression', text)  \n",
    "                \n",
    "                # Phase 2: Text normalization\n",
    "                text = self.clean_title(text) if is_title else self.clean_text(text)\n",
    "                \n",
    "                # Phase 3: Number cleanup \n",
    "                if remove_numbers:\n",
    "                    text = self.remove_numbers(text)  # Bye-bye lonely digits\n",
    "                \n",
    "                # Phase 4: Linguistic processing\n",
    "                if remove_stopwords:\n",
    "                    text = ' '.join([word for word in text.split() \n",
    "                                if word.lower() not in self.stop_words])  # Filter common words\n",
    "                \n",
    "                if lemmatize:  # Base word forms\n",
    "                    text = self.lemmatize_text(text)\n",
    "                \n",
    "                if remove_duration:  # Time formats\n",
    "                    text = self.clean_durations(text)\n",
    "                \n",
    "                if remove_rating:  # Like 1.2M ratings\n",
    "                    text = self.clean_ratings(text)\n",
    "                \n",
    "                return self.multi_space.sub(' ', text).strip()  \n",
    "            \n",
    "            except Exception as e:  # Oops, something broke\n",
    "                print(f\"Full clean pipeline glitch: {str(e)}\") \n",
    "                return text  # Return whatever we have\n",
    "\n",
    "    def clean_title(self, text):\n",
    "            \"\"\"Special handling for titles - extra URL decoding and underscore fixes\"\"\"\n",
    "            cleaned = self.clean_text(text)  # Do normal cleaning first\n",
    "            cleaned = urllib.parse.unquote(cleaned)  # Convert %20 to spaces etc\n",
    "            cleaned = re.sub(r\"_+\", \" \", cleaned)  # Underscores → spaces\n",
    "            return self.multi_space.sub(\" \", cleaned).strip()  # Final whitespace pass\n"
   ]
  },
  {
   "cell_type": "markdown",
   "metadata": {},
   "source": [
    "## Load DataSets"
   ]
  },
  {
   "cell_type": "code",
   "execution_count": 31,
   "metadata": {},
   "outputs": [],
   "source": [
    "data1=pd.read_excel(\"data\\\\Dataset-1.xlsx\")\n",
    "data1_copy=data1\n",
    "data2=pd.read_excel(\"data\\\\Dataset-2.xlsx\")\n",
    "data2_copy=data2"
   ]
  },
  {
   "cell_type": "markdown",
   "metadata": {},
   "source": [
    "## Clean DataSets"
   ]
  },
  {
   "cell_type": "markdown",
   "metadata": {},
   "source": [
    "### Cleaner Objects Intialized"
   ]
  },
  {
   "cell_type": "code",
   "execution_count": 32,
   "metadata": {},
   "outputs": [],
   "source": [
    "cleaner = TextCleaner()\n",
    "encoder = OneHotEncoder(sparse_output=False,dtype=np.int8,feature_name_combiner=lambda feature, category: str(category))"
   ]
  },
  {
   "cell_type": "markdown",
   "metadata": {},
   "source": [
    "### Dataset-1"
   ]
  },
  {
   "cell_type": "code",
   "execution_count": 33,
   "metadata": {},
   "outputs": [],
   "source": [
    "# remove \"ID\" Column\n",
    "data1_copy.drop(columns=[\"ID\"],inplace=True)\n",
    "\n",
    "#Clean text Data on various parameters\n",
    "data1_copy['ABSTRACT'] = data1['ABSTRACT'].apply(lambda x: cleaner.full_clean(x, remove_stopwords=True, lemmatize=True))\n",
    "data1_copy['TITLE'] = data1['TITLE'].apply(lambda x: cleaner.full_clean(x, remove_stopwords=True, lemmatize=True, is_title=True))\n",
    "data1_copy['Content']= data1_copy['TITLE'] + \" \" + data1_copy['ABSTRACT']\n",
    "data1_copy.drop(columns=[\"ABSTRACT\",\"TITLE\"],inplace=True)\n",
    "\n",
    "# move Content column to first position\n",
    "first_column = data1_copy.pop('Content') \n",
    "data1_copy.insert(0, 'Content', first_column) \n",
    "\n",
    "#save intermediate form\n",
    "data1_copy.to_excel(\"Intermediate\\\\data1_pass1.xlsx\",index=False)"
   ]
  },
  {
   "cell_type": "markdown",
   "metadata": {},
   "source": [
    "### Dataset-2"
   ]
  },
  {
   "cell_type": "code",
   "execution_count": 34,
   "metadata": {},
   "outputs": [],
   "source": [
    "# remove \"ID\" Column\n",
    "data2_copy.drop(columns=[\"ID\"],inplace=True)\n",
    "\n",
    "#Clean text Data on various parameters\n",
    "data2_copy['Content'] = data2['Content'].apply(\n",
    "lambda x: cleaner.full_clean(x, remove_stopwords=True, lemmatize=True, remove_numbers=True,remove_duration=True,remove_rating=True)\n",
    ")\n",
    "\n",
    "#Change Domain to One-hot Encoding Format\n",
    "encoded_array = encoder.fit_transform(data2_copy[[\"Domain\"]])\n",
    "new_columns = encoder.get_feature_names_out()\n",
    "data2_copy = pd.concat([data2_copy.drop(\"Domain\", axis=1),pd.DataFrame(encoded_array, columns=new_columns)], axis=1)\n",
    "\n",
    "\n",
    "#save intermediate form\n",
    "data2_copy.to_excel(\"Intermediate\\\\data2_pass1.xlsx\",index=False)"
   ]
  },
  {
   "cell_type": "markdown",
   "metadata": {},
   "source": [
    "## Making Class for making configurable Models"
   ]
  },
  {
   "cell_type": "code",
   "execution_count": 35,
   "metadata": {},
   "outputs": [],
   "source": [
    "class TextClassifier:\n",
    "    def __init__(self, vocab_size=30000, max_seq_length=500, \n",
    "            embedding_dim=256, class_names=pd.Index([])):\n",
    "        self.vocab_size = vocab_size\n",
    "        self.max_seq_length = max_seq_length\n",
    "        self.embedding_dim = embedding_dim\n",
    "        self.class_names = class_names\n",
    "        \n",
    "        # Initialize text processing components\n",
    "        self.text_cleaner = TextCleaner()\n",
    "        self._initialize_vectorizer()\n",
    "        \n",
    "        # Training history storage\n",
    "        self.history = {}\n",
    "        self.models = {}\n",
    "\n",
    "    def _initialize_vectorizer(self):\n",
    "        \"\"\"Text vectorization layer for research paper processing\"\"\"\n",
    "        self.vectorizer = TextVectorization(max_tokens=self.vocab_size,output_sequence_length=self.max_seq_length,standardize=None)\n",
    "\n",
    "    def preprocess_data(self, df, text_columns=['Content']):\n",
    "        \"\"\"Returns properly typed NumPy arrays\"\"\"\n",
    "        \n",
    "        # Convert one-hot labels to float32\n",
    "        class_cols = [col for col in df.columns if col not in text_columns]\n",
    "        labels = df[class_cols].values.astype(np.float32)\n",
    "        \n",
    "        return df['Content'].values, labels\n",
    "    \n",
    "    def adapt_vectorizer(self, texts):\n",
    "        \"\"\"Adapt text vectorization layer to training data\"\"\"\n",
    "        text_ds = tf.data.Dataset.from_tensor_slices(texts).batch(64)\n",
    "        self.vectorizer.adapt(text_ds)\n",
    "\n",
    "    def build_model(self, model_type='lstm'):\n",
    "        \"\"\"\n",
    "        Build RNN model with specified architecture\n",
    "        \n",
    "        Supported types: 'simple_rnn', 'lstm', 'gru', 'bilstm'\n",
    "        \"\"\"\n",
    "        # Input layer for research paper texts\n",
    "        text_input = layers.Input(shape=(1,), dtype=tf.string, name='text_input')\n",
    "        x = self.vectorizer(text_input)\n",
    "        x = layers.Embedding(input_dim=self.vocab_size + 1,output_dim=self.embedding_dim,mask_zero=True)(x)\n",
    "        \n",
    "        # RNN Architecture Selection\n",
    "        if model_type == 'simple_rnn':\n",
    "            x = layers.SimpleRNN(128, return_sequences=True)(x)\n",
    "            x = layers.SimpleRNN(64)(x)\n",
    "        elif model_type == 'lstm':\n",
    "            x = layers.LSTM(128, return_sequences=True)(x)\n",
    "            x = layers.LSTM(64)(x)\n",
    "        elif model_type == 'gru':\n",
    "            x = layers.GRU(128, return_sequences=True)(x)\n",
    "            x = layers.GRU(64)(x)\n",
    "        elif model_type == 'bilstm':\n",
    "            x = layers.Bidirectional(layers.LSTM(64, return_sequences=True))(x)\n",
    "            x = layers.Bidirectional(layers.LSTM(32))(x)\n",
    "        \n",
    "        # Classification head\n",
    "        n_classes = len(self.class_names) if self.class_names is not None and not self.class_names.empty else 1\n",
    "        activation = 'softmax'\n",
    "        outputs = layers.Dense(n_classes, activation=activation)(x)\n",
    "        \n",
    "        model = Model(text_input, outputs)\n",
    "        model.compile(loss='categorical_crossentropy',optimizer='adam',metrics=['accuracy'])        \n",
    "        return model\n",
    "\n",
    "    def train(self, train_texts, train_labels, model_type='lstm', \n",
    "            epochs=15, validation_data=None,dataset=\"Dataset-1\"):  \n",
    "        \"\"\"Updated training method for research paper classification\"\"\"\n",
    "        try:\n",
    "            # Convert to TensorFlow Dataset\n",
    "            train_ds = tf.data.Dataset.from_tensor_slices(\n",
    "                (train_texts, train_labels.astype('float32'))\n",
    "            ).shuffle(10000).batch(64).prefetch(tf.data.AUTOTUNE)\n",
    "\n",
    "            # Build and store model\n",
    "            model = self.build_model(model_type)\n",
    "            self.models[model_type] = model\n",
    "            \n",
    "            # Training callbacks\n",
    "            cb = [\n",
    "                tf.keras.callbacks.EarlyStopping(patience=2, restore_best_weights=True),\n",
    "                tf.keras.callbacks.ModelCheckpoint(f'best_{model_type}_{dataset}.keras',save_best_only=True)\n",
    "                ]\n",
    "            \n",
    "            # Train with explicit validation data\n",
    "            history = model.fit(train_ds,validation_data=validation_data,epochs=epochs,callbacks=cb)\n",
    "            \n",
    "            self.history[model_type] = history.history\n",
    "            return history\n",
    "\n",
    "        except Exception as e:\n",
    "            print(f\"Training failed: {str(e)}\")\n",
    "            raise\n",
    "\n",
    "    def evaluate(self, test_texts, test_labels, model_type='lstm'):\n",
    "        \"\"\"Evaluate model performance on test set\"\"\"\n",
    "        model = self.models[model_type]\n",
    "        test_ds = tf.data.Dataset.from_tensor_slices((test_texts, test_labels)).batch(64)\n",
    "        return model.evaluate(test_ds, return_dict=True)\n",
    "\n",
    "    def plot_history(self, model_type='lstm'):\n",
    "        \"\"\"Visualize training history for specified model\"\"\"\n",
    "        history = self.history.get(model_type)\n",
    "        if not history:\n",
    "            raise ValueError(f\"No history found for model type {model_type}\")\n",
    "            \n",
    "        plt.figure(figsize=(12, 5))\n",
    "        \n",
    "        plt.subplot(1, 2, 1)\n",
    "        plt.plot(history['accuracy'], label='Train')\n",
    "        plt.plot(history['val_accuracy'], label='Validation')\n",
    "        plt.title(f'{model_type.upper()} Accuracy')\n",
    "        plt.xlabel('Epoch')\n",
    "        plt.ylabel('Accuracy')\n",
    "        plt.legend()\n",
    "        \n",
    "        plt.subplot(1, 2, 2)\n",
    "        plt.plot(history['loss'], label='Train')\n",
    "        plt.plot(history['val_loss'], label='Validation')\n",
    "        plt.title(f'{model_type.upper()} Loss')\n",
    "        plt.xlabel('Epoch')\n",
    "        plt.ylabel('Loss')\n",
    "        plt.legend()\n",
    "        \n",
    "        plt.tight_layout()\n",
    "        plt.show()\n"
   ]
  },
  {
   "cell_type": "markdown",
   "metadata": {},
   "source": [
    "# Classifier For DataSet-1"
   ]
  },
  {
   "cell_type": "markdown",
   "metadata": {},
   "source": [
    "### Dataset-1"
   ]
  },
  {
   "cell_type": "code",
   "execution_count": 36,
   "metadata": {},
   "outputs": [],
   "source": [
    "classifier = TextClassifier(\n",
    "    class_names=data1_copy.columns[1:],  \n",
    "    vocab_size=30000,\n",
    "    max_seq_length=500\n",
    ")\n",
    "\n",
    "# Preprocess data\n",
    "texts, labels = classifier.preprocess_data(data1_copy,text_columns=['Content'])\n",
    "\n",
    "# Split dataset\n",
    "X_train, X_temp, y_train, y_temp = train_test_split(texts, labels, test_size=0.2, random_state=42)\n",
    "X_val, X_test, y_val, y_test = train_test_split(X_temp, y_temp, test_size=0.5, random_state=42)\n",
    "\n",
    "# Convert validation set to TensorFlow Dataset\n",
    "val_ds = tf.data.Dataset.from_tensor_slices(\n",
    "    (X_val, y_val.astype('float32'))\n",
    ").batch(64)\n",
    "\n",
    "# Adapt vectorizer and train models\n",
    "classifier.adapt_vectorizer(X_train)"
   ]
  },
  {
   "cell_type": "markdown",
   "metadata": {},
   "source": [
    "### a) Simple RNN"
   ]
  },
  {
   "cell_type": "code",
   "execution_count": 37,
   "metadata": {},
   "outputs": [
    {
     "name": "stdout",
     "output_type": "stream",
     "text": [
      "Epoch 1/15\n",
      "\u001b[1m263/263\u001b[0m \u001b[32m━━━━━━━━━━━━━━━━━━━━\u001b[0m\u001b[37m\u001b[0m \u001b[1m154s\u001b[0m 576ms/step - accuracy: 0.3768 - loss: 1.9133 - val_accuracy: 0.3901 - val_loss: 1.9327\n",
      "Epoch 2/15\n",
      "\u001b[1m263/263\u001b[0m \u001b[32m━━━━━━━━━━━━━━━━━━━━\u001b[0m\u001b[37m\u001b[0m \u001b[1m157s\u001b[0m 599ms/step - accuracy: 0.4095 - loss: 1.8872 - val_accuracy: 0.3901 - val_loss: 1.9301\n",
      "Epoch 3/15\n",
      "\u001b[1m263/263\u001b[0m \u001b[32m━━━━━━━━━━━━━━━━━━━━\u001b[0m\u001b[37m\u001b[0m \u001b[1m161s\u001b[0m 611ms/step - accuracy: 0.3710 - loss: 1.9672 - val_accuracy: 0.3410 - val_loss: 2.0310\n",
      "Epoch 4/15\n",
      "\u001b[1m263/263\u001b[0m \u001b[32m━━━━━━━━━━━━━━━━━━━━\u001b[0m\u001b[37m\u001b[0m \u001b[1m165s\u001b[0m 628ms/step - accuracy: 0.3656 - loss: 1.9809 - val_accuracy: 0.3724 - val_loss: 1.9437\n",
      "\u001b[1m33/33\u001b[0m \u001b[32m━━━━━━━━━━━━━━━━━━━━\u001b[0m\u001b[37m\u001b[0m \u001b[1m6s\u001b[0m 187ms/step - accuracy: 0.4032 - loss: 1.8992\n"
     ]
    },
    {
     "data": {
      "image/png": "[encoded data removed]",
      "text/plain": [
       "<Figure size 1200x500 with 2 Axes>"
      ]
     },
     "metadata": {},
     "output_type": "display_data"
    },
    {
     "name": "stdout",
     "output_type": "stream",
     "text": [
      "Test Accuracy: 41.52%\n"
     ]
    }
   ],
   "source": [
    "model_type='simple_rnn'\n",
    "# Train model with explicit validation set\n",
    "classifier.train(X_train, y_train, model_type=model_type, validation_data=val_ds,dataset=\"Dataset-1\")\n",
    "simple_rnn_acc=classifier.evaluate(test_texts=X_test, test_labels=y_test, model_type=model_type)\n",
    "classifier.plot_history(model_type)\n",
    "print(f\"Test Accuracy: {simple_rnn_acc['accuracy']:.2%}\")"
   ]
  },
  {
   "cell_type": "markdown",
   "metadata": {},
   "source": [
    "### b) LSTM"
   ]
  },
  {
   "cell_type": "code",
   "execution_count": 38,
   "metadata": {},
   "outputs": [
    {
     "name": "stdout",
     "output_type": "stream",
     "text": [
      "Epoch 1/15\n",
      "\u001b[1m263/263\u001b[0m \u001b[32m━━━━━━━━━━━━━━━━━━━━\u001b[0m\u001b[37m\u001b[0m \u001b[1m352s\u001b[0m 1s/step - accuracy: 0.5556 - loss: 1.7059 - val_accuracy: 0.7358 - val_loss: 1.3702\n",
      "Epoch 2/15\n",
      "\u001b[1m263/263\u001b[0m \u001b[32m━━━━━━━━━━━━━━━━━━━━\u001b[0m\u001b[37m\u001b[0m \u001b[1m338s\u001b[0m 1s/step - accuracy: 0.7631 - loss: 1.3105 - val_accuracy: 0.7515 - val_loss: 1.3135\n",
      "Epoch 3/15\n",
      "\u001b[1m263/263\u001b[0m \u001b[32m━━━━━━━━━━━━━━━━━━━━\u001b[0m\u001b[37m\u001b[0m \u001b[1m347s\u001b[0m 1s/step - accuracy: 0.7843 - loss: 1.2189 - val_accuracy: 0.7554 - val_loss: 1.5076\n",
      "Epoch 4/15\n",
      "\u001b[1m263/263\u001b[0m \u001b[32m━━━━━━━━━━━━━━━━━━━━\u001b[0m\u001b[37m\u001b[0m \u001b[1m349s\u001b[0m 1s/step - accuracy: 0.7866 - loss: 1.3301 - val_accuracy: 0.7120 - val_loss: 1.7983\n",
      "\u001b[1m33/33\u001b[0m \u001b[32m━━━━━━━━━━━━━━━━━━━━\u001b[0m\u001b[37m\u001b[0m \u001b[1m12s\u001b[0m 366ms/step - accuracy: 0.7627 - loss: 1.2930\n"
     ]
    },
    {
     "data": {
      "image/png": "[encoded data removed]",
      "text/plain": [
       "<Figure size 1200x500 with 2 Axes>"
      ]
     },
     "metadata": {},
     "output_type": "display_data"
    },
    {
     "name": "stdout",
     "output_type": "stream",
     "text": [
      "Test Accuracy: 76.84%\n"
     ]
    }
   ],
   "source": [
    "model_type='lstm'\n",
    "# Train model with explicit validation set\n",
    "classifier.train(X_train, y_train, model_type=model_type, validation_data=val_ds,dataset=\"Dataset-1\")\n",
    "lstm_acc=classifier.evaluate(test_texts=X_test, test_labels=y_test, model_type=model_type)\n",
    "classifier.plot_history(model_type)\n",
    "print(f\"Test Accuracy: {lstm_acc['accuracy']:.2%}\")"
   ]
  },
  {
   "cell_type": "markdown",
   "metadata": {},
   "source": [
    "### c) GRU"
   ]
  },
  {
   "cell_type": "code",
   "execution_count": 39,
   "metadata": {},
   "outputs": [
    {
     "name": "stdout",
     "output_type": "stream",
     "text": [
      "Epoch 1/15\n",
      "\u001b[1m263/263\u001b[0m \u001b[32m━━━━━━━━━━━━━━━━━━━━\u001b[0m\u001b[37m\u001b[0m \u001b[1m310s\u001b[0m 1s/step - accuracy: 0.5669 - loss: 1.6919 - val_accuracy: 0.7678 - val_loss: 1.2985\n",
      "Epoch 2/15\n",
      "\u001b[1m263/263\u001b[0m \u001b[32m━━━━━━━━━━━━━━━━━━━━\u001b[0m\u001b[37m\u001b[0m \u001b[1m276s\u001b[0m 1s/step - accuracy: 0.7898 - loss: 1.2004 - val_accuracy: 0.7639 - val_loss: 1.4243\n",
      "Epoch 3/15\n",
      "\u001b[1m263/263\u001b[0m \u001b[32m━━━━━━━━━━━━━━━━━━━━\u001b[0m\u001b[37m\u001b[0m \u001b[1m284s\u001b[0m 1s/step - accuracy: 0.8006 - loss: 1.1920 - val_accuracy: 0.7582 - val_loss: 1.3985\n",
      "\u001b[1m33/33\u001b[0m \u001b[32m━━━━━━━━━━━━━━━━━━━━\u001b[0m\u001b[37m\u001b[0m \u001b[1m12s\u001b[0m 354ms/step - accuracy: 0.7700 - loss: 1.2599\n"
     ]
    },
    {
     "data": {
      "image/png": "[encoded data removed]",
      "text/plain": [
       "<Figure size 1200x500 with 2 Axes>"
      ]
     },
     "metadata": {},
     "output_type": "display_data"
    },
    {
     "name": "stdout",
     "output_type": "stream",
     "text": [
      "Test Accuracy: 77.36%\n"
     ]
    }
   ],
   "source": [
    "model_type='gru'\n",
    "# Train model with explicit validation set\n",
    "classifier.train(X_train, y_train, model_type=model_type, validation_data=val_ds,dataset=\"Dataset-1\")\n",
    "gru_acc=classifier.evaluate(test_texts=X_test, test_labels=y_test, model_type=model_type)\n",
    "classifier.plot_history(model_type)\n",
    "print(f\"Test Accuracy: {gru_acc['accuracy']:.2%}\")"
   ]
  },
  {
   "cell_type": "markdown",
   "metadata": {},
   "source": [
    "### d) BILSTM"
   ]
  },
  {
   "cell_type": "code",
   "execution_count": 40,
   "metadata": {},
   "outputs": [
    {
     "name": "stdout",
     "output_type": "stream",
     "text": [
      "Epoch 1/15\n",
      "\u001b[1m263/263\u001b[0m \u001b[32m━━━━━━━━━━━━━━━━━━━━\u001b[0m\u001b[37m\u001b[0m \u001b[1m251s\u001b[0m 933ms/step - accuracy: 0.5982 - loss: 1.6520 - val_accuracy: 0.7501 - val_loss: 1.4388\n",
      "Epoch 2/15\n",
      "\u001b[1m263/263\u001b[0m \u001b[32m━━━━━━━━━━━━━━━━━━━━\u001b[0m\u001b[37m\u001b[0m \u001b[1m239s\u001b[0m 910ms/step - accuracy: 0.7712 - loss: 1.2966 - val_accuracy: 0.7525 - val_loss: 1.4480\n",
      "Epoch 3/15\n",
      "\u001b[1m263/263\u001b[0m \u001b[32m━━━━━━━━━━━━━━━━━━━━\u001b[0m\u001b[37m\u001b[0m \u001b[1m230s\u001b[0m 877ms/step - accuracy: 0.7871 - loss: 1.3391 - val_accuracy: 0.7349 - val_loss: 1.7926\n",
      "\u001b[1m33/33\u001b[0m \u001b[32m━━━━━━━━━━━━━━━━━━━━\u001b[0m\u001b[37m\u001b[0m \u001b[1m5s\u001b[0m 148ms/step - accuracy: 0.7559 - loss: 1.3972\n"
     ]
    },
    {
     "data": {
      "image/png": "[encoded data removed]",
      "text/plain": [
       "<Figure size 1200x500 with 2 Axes>"
      ]
     },
     "metadata": {},
     "output_type": "display_data"
    },
    {
     "name": "stdout",
     "output_type": "stream",
     "text": [
      "Test Accuracy: 75.69%\n"
     ]
    }
   ],
   "source": [
    "model_type='bilstm'\n",
    "# Train model with explicit validation set\n",
    "classifier.train(X_train, y_train, model_type=model_type, validation_data=val_ds,dataset=\"Dataset-1\")\n",
    "bilstm_acc=classifier.evaluate(test_texts=X_test, test_labels=y_test, model_type=model_type)\n",
    "classifier.plot_history(model_type)\n",
    "print(f\"Test Accuracy: {bilstm_acc['accuracy']:.2%}\")"
   ]
  },
  {
   "cell_type": "markdown",
   "metadata": {},
   "source": [
    "## Specific funtion for Spliting the Dataset-2\n",
    "\n",
    "**use the first 50% examples as training, next 20% for validation, and the next 30% for testing**"
   ]
  },
  {
   "cell_type": "code",
   "execution_count": 41,
   "metadata": {},
   "outputs": [],
   "source": [
    "def split_dataset_domain_order(df):\n",
    "    # Identify class columns\n",
    "    class_cols = [col for col in df.columns if col != 'Content']\n",
    "    \n",
    "    # Initialize empty sets for indices\n",
    "    train_indices = set()\n",
    "    val_indices = set()\n",
    "    test_indices = set()\n",
    "\n",
    "    for cls in class_cols:\n",
    "        # Get class examples in original order\n",
    "        class_examples = df[df[cls] == 1].index.tolist()\n",
    "        n = len(class_examples)\n",
    "        \n",
    "        # Calculate split points\n",
    "        train_end = int(0.5 * n)\n",
    "        val_end = train_end + int(0.2 * n)\n",
    "        \n",
    "        # Add to respective sets\n",
    "        train_indices.update(class_examples[:train_end])\n",
    "        val_indices.update(class_examples[train_end:val_end])\n",
    "        test_indices.update(class_examples[val_end:])\n",
    "    \n",
    "    # Remove overlaps with priority: train > val > test\n",
    "    val_indices = val_indices - train_indices\n",
    "    test_indices = test_indices - train_indices - val_indices\n",
    "    \n",
    "    # Create splits preserving original order\n",
    "    train_df = df.loc[sorted(train_indices)]\n",
    "    val_df = df.loc[sorted(val_indices)]\n",
    "    test_df = df.loc[sorted(test_indices)]\n",
    "    \n",
    "    return train_df, val_df, test_df"
   ]
  },
  {
   "cell_type": "markdown",
   "metadata": {},
   "source": [
    "# Spliting Dataset and Creating model for Dataset-2"
   ]
  },
  {
   "cell_type": "code",
   "execution_count": 42,
   "metadata": {},
   "outputs": [],
   "source": [
    "# Split Dataset 2 using domain-order splitting\n",
    "train_df, val_df, test_df = split_dataset_domain_order(data2_copy)\n",
    "\n",
    "# Initialize classifier with Dataset 2's class names\n",
    "classifier = TextClassifier(\n",
    "    class_names=train_df.columns[train_df.columns != 'Content'],  # Auto-detect classes\n",
    "    vocab_size=30000,\n",
    "    max_seq_length=500\n",
    ")\n",
    "\n",
    "# Preprocess splits while preserving domain order\n",
    "def preprocess_split(df):\n",
    "    \"\"\"Helper to maintain DataFrame structure during preprocessing\"\"\"\n",
    "    return classifier.preprocess_data(df, text_columns=['Content'])\n",
    "\n",
    "train_texts, train_labels = preprocess_split(train_df)\n",
    "val_texts, val_labels = preprocess_split(val_df)\n",
    "test_texts, test_labels = preprocess_split(test_df)\n",
    "\n",
    "# Adapt vectorizer ONLY on training data\n",
    "classifier.adapt_vectorizer(train_texts)\n",
    "\n",
    "# Create TensorFlow datasets with domain-ordered splits\n",
    "train_ds = tf.data.Dataset.from_tensor_slices(\n",
    "    (train_texts, train_labels.astype('float32'))\n",
    ").batch(64).prefetch(tf.data.AUTOTUNE)\n",
    "\n",
    "val_ds = tf.data.Dataset.from_tensor_slices(\n",
    "    (val_texts, val_labels.astype('float32'))\n",
    ").batch(64)\n",
    "\n",
    "test_ds = tf.data.Dataset.from_tensor_slices(\n",
    "    (test_texts, test_labels.astype('float32'))\n",
    ").batch(64)"
   ]
  },
  {
   "cell_type": "markdown",
   "metadata": {},
   "source": [
    "### a)Simple RNN"
   ]
  },
  {
   "cell_type": "code",
   "execution_count": 43,
   "metadata": {},
   "outputs": [
    {
     "name": "stdout",
     "output_type": "stream",
     "text": [
      "Epoch 1/15\n",
      "\u001b[1m31/31\u001b[0m \u001b[32m━━━━━━━━━━━━━━━━━━━━\u001b[0m\u001b[37m\u001b[0m \u001b[1m15s\u001b[0m 410ms/step - accuracy: 0.3279 - loss: 1.5210 - val_accuracy: 0.4968 - val_loss: 1.2529\n",
      "Epoch 2/15\n",
      "\u001b[1m31/31\u001b[0m \u001b[32m━━━━━━━━━━━━━━━━━━━━\u001b[0m\u001b[37m\u001b[0m \u001b[1m11s\u001b[0m 354ms/step - accuracy: 0.8988 - loss: 0.5378 - val_accuracy: 0.5083 - val_loss: 1.2549\n",
      "Epoch 3/15\n",
      "\u001b[1m31/31\u001b[0m \u001b[32m━━━━━━━━━━━━━━━━━━━━\u001b[0m\u001b[37m\u001b[0m \u001b[1m11s\u001b[0m 368ms/step - accuracy: 0.9979 - loss: 0.0485 - val_accuracy: 0.5977 - val_loss: 1.0571\n",
      "Epoch 4/15\n",
      "\u001b[1m31/31\u001b[0m \u001b[32m━━━━━━━━━━━━━━━━━━━━\u001b[0m\u001b[37m\u001b[0m \u001b[1m11s\u001b[0m 356ms/step - accuracy: 1.0000 - loss: 0.0117 - val_accuracy: 0.5594 - val_loss: 1.1478\n",
      "Epoch 5/15\n",
      "\u001b[1m31/31\u001b[0m \u001b[32m━━━━━━━━━━━━━━━━━━━━\u001b[0m\u001b[37m\u001b[0m \u001b[1m11s\u001b[0m 352ms/step - accuracy: 1.0000 - loss: 0.0062 - val_accuracy: 0.5645 - val_loss: 1.1478\n",
      "\u001b[1m19/19\u001b[0m \u001b[32m━━━━━━━━━━━━━━━━━━━━\u001b[0m\u001b[37m\u001b[0m \u001b[1m2s\u001b[0m 85ms/step - accuracy: 0.6045 - loss: 1.1215\n"
     ]
    },
    {
     "data": {
      "image/png": "[encoded data removed]",
      "text/plain": [
       "<Figure size 1200x500 with 2 Axes>"
      ]
     },
     "metadata": {},
     "output_type": "display_data"
    },
    {
     "name": "stdout",
     "output_type": "stream",
     "text": [
      "Test Accuracy: 60.71%\n"
     ]
    }
   ],
   "source": [
    "model_type='simple_rnn'\n",
    "# Train with domain-ordered validation\n",
    "classifier.train(train_texts, train_labels,model_type=model_type,validation_data=val_ds,dataset=\"Dataset-2\")\n",
    "\n",
    "# Evaluate on domain-ordered test set\n",
    "data2_simple_rnn_acc = classifier.evaluate(test_texts, test_labels, model_type=model_type)\n",
    "classifier.plot_history(model_type)\n",
    "print(f\"Test Accuracy: {data2_simple_rnn_acc['accuracy']:.2%}\")"
   ]
  },
  {
   "cell_type": "markdown",
   "metadata": {},
   "source": [
    "### b) LSTM"
   ]
  },
  {
   "cell_type": "code",
   "execution_count": 44,
   "metadata": {},
   "outputs": [
    {
     "name": "stdout",
     "output_type": "stream",
     "text": [
      "Epoch 1/15\n",
      "\u001b[1m31/31\u001b[0m \u001b[32m━━━━━━━━━━━━━━━━━━━━\u001b[0m\u001b[37m\u001b[0m \u001b[1m33s\u001b[0m 980ms/step - accuracy: 0.5049 - loss: 1.3013 - val_accuracy: 0.7739 - val_loss: 0.5562\n",
      "Epoch 2/15\n",
      "\u001b[1m31/31\u001b[0m \u001b[32m━━━━━━━━━━━━━━━━━━━━\u001b[0m\u001b[37m\u001b[0m \u001b[1m30s\u001b[0m 960ms/step - accuracy: 0.8103 - loss: 0.6015 - val_accuracy: 0.7407 - val_loss: 0.6518\n",
      "Epoch 3/15\n",
      "\u001b[1m31/31\u001b[0m \u001b[32m━━━━━━━━━━━━━━━━━━━━\u001b[0m\u001b[37m\u001b[0m \u001b[1m31s\u001b[0m 995ms/step - accuracy: 0.8192 - loss: 0.5213 - val_accuracy: 0.9285 - val_loss: 0.2716\n",
      "Epoch 4/15\n",
      "\u001b[1m31/31\u001b[0m \u001b[32m━━━━━━━━━━━━━━━━━━━━\u001b[0m\u001b[37m\u001b[0m \u001b[1m30s\u001b[0m 958ms/step - accuracy: 0.9587 - loss: 0.1718 - val_accuracy: 0.9310 - val_loss: 0.2667\n",
      "Epoch 5/15\n",
      "\u001b[1m31/31\u001b[0m \u001b[32m━━━━━━━━━━━━━━━━━━━━\u001b[0m\u001b[37m\u001b[0m \u001b[1m30s\u001b[0m 958ms/step - accuracy: 0.9713 - loss: 0.1184 - val_accuracy: 0.9208 - val_loss: 0.2775\n",
      "Epoch 6/15\n",
      "\u001b[1m31/31\u001b[0m \u001b[32m━━━━━━━━━━━━━━━━━━━━\u001b[0m\u001b[37m\u001b[0m \u001b[1m29s\u001b[0m 955ms/step - accuracy: 0.9421 - loss: 0.1576 - val_accuracy: 0.9132 - val_loss: 0.2843\n",
      "\u001b[1m19/19\u001b[0m \u001b[32m━━━━━━━━━━━━━━━━━━━━\u001b[0m\u001b[37m\u001b[0m \u001b[1m4s\u001b[0m 198ms/step - accuracy: 0.9453 - loss: 0.2352\n"
     ]
    },
    {
     "data": {
      "image/png": "[encoded data removed]",
      "text/plain": [
       "<Figure size 1200x500 with 2 Axes>"
      ]
     },
     "metadata": {},
     "output_type": "display_data"
    },
    {
     "name": "stdout",
     "output_type": "stream",
     "text": [
      "Test Accuracy: 94.24%\n"
     ]
    }
   ],
   "source": [
    "model_type='lstm'\n",
    "# Train with domain-ordered validation\n",
    "classifier.train(train_texts, train_labels,model_type=model_type,validation_data=val_ds,dataset=\"Dataset-2\")\n",
    "\n",
    "# Evaluate on domain-ordered test set\n",
    "data2_lstm_acc = classifier.evaluate(test_texts, test_labels, model_type=model_type)\n",
    "classifier.plot_history(model_type)\n",
    "print(f\"Test Accuracy: {data2_lstm_acc['accuracy']:.2%}\")"
   ]
  },
  {
   "cell_type": "markdown",
   "metadata": {},
   "source": [
    "### c) GRU"
   ]
  },
  {
   "cell_type": "code",
   "execution_count": 45,
   "metadata": {},
   "outputs": [
    {
     "name": "stdout",
     "output_type": "stream",
     "text": [
      "Epoch 1/15\n",
      "\u001b[1m31/31\u001b[0m \u001b[32m━━━━━━━━━━━━━━━━━━━━\u001b[0m\u001b[37m\u001b[0m \u001b[1m32s\u001b[0m 927ms/step - accuracy: 0.4681 - loss: 1.4261 - val_accuracy: 0.7267 - val_loss: 0.7283\n",
      "Epoch 2/15\n",
      "\u001b[1m31/31\u001b[0m \u001b[32m━━━━━━━━━━━━━━━━━━━━\u001b[0m\u001b[37m\u001b[0m \u001b[1m28s\u001b[0m 915ms/step - accuracy: 0.7901 - loss: 0.4610 - val_accuracy: 0.8697 - val_loss: 0.4241\n",
      "Epoch 3/15\n",
      "\u001b[1m31/31\u001b[0m \u001b[32m━━━━━━━━━━━━━━━━━━━━\u001b[0m\u001b[37m\u001b[0m \u001b[1m29s\u001b[0m 924ms/step - accuracy: 0.9819 - loss: 0.1135 - val_accuracy: 0.9336 - val_loss: 0.1926\n",
      "Epoch 4/15\n",
      "\u001b[1m31/31\u001b[0m \u001b[32m━━━━━━━━━━━━━━━━━━━━\u001b[0m\u001b[37m\u001b[0m \u001b[1m28s\u001b[0m 893ms/step - accuracy: 1.0000 - loss: 0.0096 - val_accuracy: 0.9336 - val_loss: 0.2169\n",
      "Epoch 5/15\n",
      "\u001b[1m31/31\u001b[0m \u001b[32m━━━━━━━━━━━━━━━━━━━━\u001b[0m\u001b[37m\u001b[0m \u001b[1m29s\u001b[0m 927ms/step - accuracy: 1.0000 - loss: 0.0024 - val_accuracy: 0.9400 - val_loss: 0.1912\n",
      "Epoch 6/15\n",
      "\u001b[1m31/31\u001b[0m \u001b[32m━━━━━━━━━━━━━━━━━━━━\u001b[0m\u001b[37m\u001b[0m \u001b[1m28s\u001b[0m 915ms/step - accuracy: 1.0000 - loss: 0.0017 - val_accuracy: 0.9438 - val_loss: 0.1835\n",
      "Epoch 7/15\n",
      "\u001b[1m31/31\u001b[0m \u001b[32m━━━━━━━━━━━━━━━━━━━━\u001b[0m\u001b[37m\u001b[0m \u001b[1m29s\u001b[0m 928ms/step - accuracy: 1.0000 - loss: 0.0013 - val_accuracy: 0.9515 - val_loss: 0.1826\n",
      "Epoch 8/15\n",
      "\u001b[1m31/31\u001b[0m \u001b[32m━━━━━━━━━━━━━━━━━━━━\u001b[0m\u001b[37m\u001b[0m \u001b[1m29s\u001b[0m 925ms/step - accuracy: 1.0000 - loss: 0.0011 - val_accuracy: 0.9515 - val_loss: 0.1821\n",
      "Epoch 9/15\n",
      "\u001b[1m31/31\u001b[0m \u001b[32m━━━━━━━━━━━━━━━━━━━━\u001b[0m\u001b[37m\u001b[0m \u001b[1m29s\u001b[0m 929ms/step - accuracy: 1.0000 - loss: 9.6357e-04 - val_accuracy: 0.9515 - val_loss: 0.1792\n",
      "Epoch 10/15\n",
      "\u001b[1m31/31\u001b[0m \u001b[32m━━━━━━━━━━━━━━━━━━━━\u001b[0m\u001b[37m\u001b[0m \u001b[1m29s\u001b[0m 925ms/step - accuracy: 1.0000 - loss: 7.8046e-04 - val_accuracy: 0.9515 - val_loss: 0.1785\n",
      "Epoch 11/15\n",
      "\u001b[1m31/31\u001b[0m \u001b[32m━━━━━━━━━━━━━━━━━━━━\u001b[0m\u001b[37m\u001b[0m \u001b[1m29s\u001b[0m 925ms/step - accuracy: 1.0000 - loss: 6.8735e-04 - val_accuracy: 0.9540 - val_loss: 0.1775\n",
      "Epoch 12/15\n",
      "\u001b[1m31/31\u001b[0m \u001b[32m━━━━━━━━━━━━━━━━━━━━\u001b[0m\u001b[37m\u001b[0m \u001b[1m29s\u001b[0m 921ms/step - accuracy: 1.0000 - loss: 6.1942e-04 - val_accuracy: 0.9566 - val_loss: 0.1772\n",
      "Epoch 13/15\n",
      "\u001b[1m31/31\u001b[0m \u001b[32m━━━━━━━━━━━━━━━━━━━━\u001b[0m\u001b[37m\u001b[0m \u001b[1m29s\u001b[0m 925ms/step - accuracy: 1.0000 - loss: 5.8385e-04 - val_accuracy: 0.9566 - val_loss: 0.1752\n",
      "Epoch 14/15\n",
      "\u001b[1m31/31\u001b[0m \u001b[32m━━━━━━━━━━━━━━━━━━━━\u001b[0m\u001b[37m\u001b[0m \u001b[1m30s\u001b[0m 964ms/step - accuracy: 1.0000 - loss: 5.1824e-04 - val_accuracy: 0.9566 - val_loss: 0.1749\n",
      "Epoch 15/15\n",
      "\u001b[1m31/31\u001b[0m \u001b[32m━━━━━━━━━━━━━━━━━━━━\u001b[0m\u001b[37m\u001b[0m \u001b[1m30s\u001b[0m 967ms/step - accuracy: 1.0000 - loss: 4.5068e-04 - val_accuracy: 0.9591 - val_loss: 0.1743\n",
      "\u001b[1m19/19\u001b[0m \u001b[32m━━━━━━━━━━━━━━━━━━━━\u001b[0m\u001b[37m\u001b[0m \u001b[1m3s\u001b[0m 162ms/step - accuracy: 0.9460 - loss: 0.2180\n"
     ]
    },
    {
     "data": {
      "image/png": "[encoded data removed]",
      "text/plain": [
       "<Figure size 1200x500 with 2 Axes>"
      ]
     },
     "metadata": {},
     "output_type": "display_data"
    },
    {
     "name": "stdout",
     "output_type": "stream",
     "text": [
      "Test Accuracy: 94.83%\n"
     ]
    }
   ],
   "source": [
    "model_type='gru'\n",
    "# Train with domain-ordered validation\n",
    "classifier.train(train_texts, train_labels,model_type=model_type,validation_data=val_ds,dataset=\"Dataset-2\")\n",
    "\n",
    "# Evaluate on domain-ordered test set\n",
    "data2_gru_acc = classifier.evaluate(test_texts, test_labels, model_type=model_type)\n",
    "classifier.plot_history(model_type)\n",
    "print(f\"Test Accuracy: {data2_gru_acc['accuracy']:.2%}\")"
   ]
  },
  {
   "cell_type": "markdown",
   "metadata": {},
   "source": [
    "### d) BILSTM"
   ]
  },
  {
   "cell_type": "code",
   "execution_count": 46,
   "metadata": {},
   "outputs": [
    {
     "name": "stdout",
     "output_type": "stream",
     "text": [
      "Epoch 1/15\n",
      "\u001b[1m31/31\u001b[0m \u001b[32m━━━━━━━━━━━━━━━━━━━━\u001b[0m\u001b[37m\u001b[0m \u001b[1m37s\u001b[0m 1s/step - accuracy: 0.5173 - loss: 1.3181 - val_accuracy: 0.9655 - val_loss: 0.2897\n",
      "Epoch 2/15\n",
      "\u001b[1m31/31\u001b[0m \u001b[32m━━━━━━━━━━━━━━━━━━━━\u001b[0m\u001b[37m\u001b[0m \u001b[1m31s\u001b[0m 1000ms/step - accuracy: 0.9809 - loss: 0.1893 - val_accuracy: 0.9693 - val_loss: 0.1019\n",
      "Epoch 3/15\n",
      "\u001b[1m31/31\u001b[0m \u001b[32m━━━━━━━━━━━━━━━━━━━━\u001b[0m\u001b[37m\u001b[0m \u001b[1m31s\u001b[0m 1s/step - accuracy: 0.9969 - loss: 0.0367 - val_accuracy: 0.9962 - val_loss: 0.0265\n",
      "Epoch 4/15\n",
      "\u001b[1m31/31\u001b[0m \u001b[32m━━━━━━━━━━━━━━━━━━━━\u001b[0m\u001b[37m\u001b[0m \u001b[1m31s\u001b[0m 1s/step - accuracy: 1.0000 - loss: 0.0111 - val_accuracy: 0.9987 - val_loss: 0.0163\n",
      "Epoch 5/15\n",
      "\u001b[1m31/31\u001b[0m \u001b[32m━━━━━━━━━━━━━━━━━━━━\u001b[0m\u001b[37m\u001b[0m \u001b[1m30s\u001b[0m 981ms/step - accuracy: 1.0000 - loss: 0.0052 - val_accuracy: 0.9987 - val_loss: 0.0126\n",
      "Epoch 6/15\n",
      "\u001b[1m31/31\u001b[0m \u001b[32m━━━━━━━━━━━━━━━━━━━━\u001b[0m\u001b[37m\u001b[0m \u001b[1m32s\u001b[0m 1s/step - accuracy: 1.0000 - loss: 0.0032 - val_accuracy: 0.9987 - val_loss: 0.0120\n",
      "Epoch 7/15\n",
      "\u001b[1m31/31\u001b[0m \u001b[32m━━━━━━━━━━━━━━━━━━━━\u001b[0m\u001b[37m\u001b[0m \u001b[1m31s\u001b[0m 1s/step - accuracy: 1.0000 - loss: 0.0023 - val_accuracy: 0.9987 - val_loss: 0.0115\n",
      "Epoch 8/15\n",
      "\u001b[1m31/31\u001b[0m \u001b[32m━━━━━━━━━━━━━━━━━━━━\u001b[0m\u001b[37m\u001b[0m \u001b[1m31s\u001b[0m 1s/step - accuracy: 1.0000 - loss: 0.0018 - val_accuracy: 0.9987 - val_loss: 0.0113\n",
      "Epoch 9/15\n",
      "\u001b[1m31/31\u001b[0m \u001b[32m━━━━━━━━━━━━━━━━━━━━\u001b[0m\u001b[37m\u001b[0m \u001b[1m30s\u001b[0m 976ms/step - accuracy: 1.0000 - loss: 0.0014 - val_accuracy: 0.9974 - val_loss: 0.0119\n",
      "Epoch 10/15\n",
      "\u001b[1m31/31\u001b[0m \u001b[32m━━━━━━━━━━━━━━━━━━━━\u001b[0m\u001b[37m\u001b[0m \u001b[1m30s\u001b[0m 977ms/step - accuracy: 1.0000 - loss: 0.0012 - val_accuracy: 0.9974 - val_loss: 0.0122\n",
      "\u001b[1m19/19\u001b[0m \u001b[32m━━━━━━━━━━━━━━━━━━━━\u001b[0m\u001b[37m\u001b[0m \u001b[1m3s\u001b[0m 175ms/step - accuracy: 0.9976 - loss: 0.0112\n"
     ]
    },
    {
     "data": {
      "image/png": "[encoded data removed]",
      "text/plain": [
       "<Figure size 1200x500 with 2 Axes>"
      ]
     },
     "metadata": {},
     "output_type": "display_data"
    },
    {
     "name": "stdout",
     "output_type": "stream",
     "text": [
      "Test Accuracy: 99.75%\n"
     ]
    }
   ],
   "source": [
    "model_type='bilstm'\n",
    "# Train with domain-ordered validation\n",
    "classifier.train(train_texts, train_labels,model_type=model_type,validation_data=val_ds,dataset=\"Dataset-2\")\n",
    "\n",
    "# Evaluate on domain-ordered test set\n",
    "data2_bilstm_acc = classifier.evaluate(test_texts, test_labels, model_type=model_type)\n",
    "classifier.plot_history(model_type)\n",
    "print(f\"Test Accuracy: {data2_bilstm_acc['accuracy']:.2%}\")"
   ]
  },
  {
   "cell_type": "markdown",
   "metadata": {},
   "source": [
    "# Plotting function (use Plotly)"
   ]
  },
  {
   "cell_type": "code",
   "execution_count": 48,
   "metadata": {},
   "outputs": [],
   "source": [
    "def plot_rnn_comparisons(simple_rnn, lstm, gru, bilstm):\n",
    "    # Convert data to DataFrame for easier plotting\n",
    "    df = pd.DataFrame({\n",
    "        'Model': ['Simple RNN', 'LSTM', 'GRU', 'BiLSTM'],\n",
    "        'Accuracy': [simple_rnn['accuracy'], lstm['accuracy'], gru['accuracy'], bilstm['accuracy']],\n",
    "        'Loss': [simple_rnn['loss'], lstm['loss'], gru['loss'], bilstm['loss']]\n",
    "    })\n",
    "    \n",
    "    # Create subplots with 1 row and 2 columns\n",
    "    fig = make_subplots(\n",
    "        rows=1, cols=2, \n",
    "        subplot_titles=(\"Model Accuracy Comparison\", \"Model Loss Comparison\"),\n",
    "        specs=[[{\"type\": \"bar\"}, {\"type\": \"bar\"}]]\n",
    "    )\n",
    "    \n",
    "    # Define custom colors for better visualization\n",
    "    colors = ['#636EFA', '#EF553B', '#00CC96', '#AB63FA']\n",
    "    \n",
    "    # Add accuracy trace\n",
    "    fig.add_trace(\n",
    "        go.Bar(\n",
    "            x=df['Model'],\n",
    "            y=df['Accuracy'],\n",
    "            name='Accuracy',\n",
    "            marker_color=colors,\n",
    "            text=df['Accuracy'].round(4),\n",
    "            textposition='auto',\n",
    "            hovertemplate='<b>%{x}</b><br>Accuracy: %{y:.4f}<extra></extra>'\n",
    "        ),\n",
    "        row=1, col=1\n",
    "    )\n",
    "    \n",
    "    # Add loss trace\n",
    "    fig.add_trace(\n",
    "        go.Bar(\n",
    "            x=df['Model'],\n",
    "            y=df['Loss'],\n",
    "            name='Loss',\n",
    "            marker_color=colors,\n",
    "            text=df['Loss'].round(4),\n",
    "            textposition='auto',\n",
    "            hovertemplate='<b>%{x}</b><br>Loss: %{y:.4f}<extra></extra>'\n",
    "        ),\n",
    "        row=1, col=2\n",
    "    )\n",
    "    \n",
    "    # Update layout\n",
    "    fig.update_layout(\n",
    "        title_text=\"RNN Architecture Performance Comparison\",\n",
    "        height=500,\n",
    "        width=1000,\n",
    "        template=\"plotly_dark\",\n",
    "        showlegend=False,\n",
    "        font=dict(family=\"Arial, sans-serif\", size=12),\n",
    "    )\n",
    "    \n",
    "    # Update y-axes\n",
    "    fig.update_yaxes(title_text=\"Accuracy\", range=[0, 1.1*max(df['Accuracy'])], row=1, col=1)\n",
    "    fig.update_yaxes(title_text=\"Loss\", range=[0, 1.1*max(df['Loss'])], row=1, col=2)\n",
    "    \n",
    "    # Show plot\n",
    "    fig.show()"
   ]
  },
  {
   "cell_type": "markdown",
   "metadata": {},
   "source": [
    "## Dataset-1 Test evaluation Graph"
   ]
  },
  {
   "cell_type": "code",
   "execution_count": 49,
   "metadata": {},
   "outputs": [
    {
     "data": {
      "application/vnd.plotly.v1+json": {
       "config": {
        "plotlyServerURL": "https://plot.ly"
       },
       "data": [
        {
         "hovertemplate": "<b>%{x}</b><br>Accuracy: %{y:.4f}<extra></extra>",
         "marker": {
          "color": [
           "#636EFA",
           "#EF553B",
           "#00CC96",
           "#AB63FA"
          ]
         },
         "name": "Accuracy",
         "text": [
          0.4152,
          0.7684,
          0.7736,
          0.7569
         ],
         "textposition": "auto",
         "type": "bar",
         "x": [
          "Simple RNN",
          "LSTM",
          "GRU",
          "BiLSTM"
         ],
         "xaxis": "x",
         "y": [
          0.415157288312912,
          0.7683508396148682,
          0.7735939025878906,
          0.7569113373756409
         ],
         "yaxis": "y"
        },
        {
         "hovertemplate": "<b>%{x}</b><br>Loss: %{y:.4f}<extra></extra>",
         "marker": {
          "color": [
           "#636EFA",
           "#EF553B",
           "#00CC96",
           "#AB63FA"
          ]
         },
         "name": "Loss",
         "text": [
          1.881,
          1.2687,
          1.2418,
          1.3774
         ],
         "textposition": "auto",
         "type": "bar",
         "x": [
          "Simple RNN",
          "LSTM",
          "GRU",
          "BiLSTM"
         ],
         "xaxis": "x2",
         "y": [
          1.881042242050171,
          1.2686799764633179,
          1.2417572736740112,
          1.3774312734603882
         ],
         "yaxis": "y2"
        }
       ],
       "layout": {
        "annotations": [
         {
          "font": {
           "size": 16
          },
          "showarrow": false,
          "text": "Model Accuracy Comparison",
          "x": 0.225,
          "xanchor": "center",
          "xref": "paper",
          "y": 1,
          "yanchor": "bottom",
          "yref": "paper"
         },
         {
          "font": {
           "size": 16
          },
          "showarrow": false,
          "text": "Model Loss Comparison",
          "x": 0.775,
          "xanchor": "center",
          "xref": "paper",
          "y": 1,
          "yanchor": "bottom",
          "yref": "paper"
         }
        ],
        "font": {
         "family": "Arial, sans-serif",
         "size": 12
        },
        "height": 500,
        "showlegend": false,
        "template": {
         "data": {
          "bar": [
           {
            "error_x": {
             "color": "#f2f5fa"
            },
            "error_y": {
             "color": "#f2f5fa"
            },
            "marker": {
             "line": {
              "color": "rgb(17,17,17)",
              "width": 0.5
             },
             "pattern": {
              "fillmode": "overlay",
              "size": 10,
              "solidity": 0.2
             }
            },
            "type": "bar"
           }
          ],
          "barpolar": [
           {
            "marker": {
             "line": {
              "color": "rgb(17,17,17)",
              "width": 0.5
             },
             "pattern": {
              "fillmode": "overlay",
              "size": 10,
              "solidity": 0.2
             }
            },
            "type": "barpolar"
           }
          ],
          "carpet": [
           {
            "aaxis": {
             "endlinecolor": "#A2B1C6",
             "gridcolor": "#506784",
             "linecolor": "#506784",
             "minorgridcolor": "#506784",
             "startlinecolor": "#A2B1C6"
            },
            "baxis": {
             "endlinecolor": "#A2B1C6",
             "gridcolor": "#506784",
             "linecolor": "#506784",
             "minorgridcolor": "#506784",
             "startlinecolor": "#A2B1C6"
            },
            "type": "carpet"
           }
          ],
          "choropleth": [
           {
            "colorbar": {
             "outlinewidth": 0,
             "ticks": ""
            },
            "type": "choropleth"
           }
          ],
          "contour": [
           {
            "colorbar": {
             "outlinewidth": 0,
             "ticks": ""
            },
            "colorscale": [
             [
              0,
              "#0d0887"
             ],
             [
              0.1111111111111111,
              "#46039f"
             ],
             [
              0.2222222222222222,
              "#7201a8"
             ],
             [
              0.3333333333333333,
              "#9c179e"
             ],
             [
              0.4444444444444444,
              "#bd3786"
             ],
             [
              0.5555555555555556,
              "#d8576b"
             ],
             [
              0.6666666666666666,
              "#ed7953"
             ],
             [
              0.7777777777777778,
              "#fb9f3a"
             ],
             [
              0.8888888888888888,
              "#fdca26"
             ],
             [
              1,
              "#f0f921"
             ]
            ],
            "type": "contour"
           }
          ],
          "contourcarpet": [
           {
            "colorbar": {
             "outlinewidth": 0,
             "ticks": ""
            },
            "type": "contourcarpet"
           }
          ],
          "heatmap": [
           {
            "colorbar": {
             "outlinewidth": 0,
             "ticks": ""
            },
            "colorscale": [
             [
              0,
              "#0d0887"
             ],
             [
              0.1111111111111111,
              "#46039f"
             ],
             [
              0.2222222222222222,
              "#7201a8"
             ],
             [
              0.3333333333333333,
              "#9c179e"
             ],
             [
              0.4444444444444444,
              "#bd3786"
             ],
             [
              0.5555555555555556,
              "#d8576b"
             ],
             [
              0.6666666666666666,
              "#ed7953"
             ],
             [
              0.7777777777777778,
              "#fb9f3a"
             ],
             [
              0.8888888888888888,
              "#fdca26"
             ],
             [
              1,
              "#f0f921"
             ]
            ],
            "type": "heatmap"
           }
          ],
          "heatmapgl": [
           {
            "colorbar": {
             "outlinewidth": 0,
             "ticks": ""
            },
            "colorscale": [
             [
              0,
              "#0d0887"
             ],
             [
              0.1111111111111111,
              "#46039f"
             ],
             [
              0.2222222222222222,
              "#7201a8"
             ],
             [
              0.3333333333333333,
              "#9c179e"
             ],
             [
              0.4444444444444444,
              "#bd3786"
             ],
             [
              0.5555555555555556,
              "#d8576b"
             ],
             [
              0.6666666666666666,
              "#ed7953"
             ],
             [
              0.7777777777777778,
              "#fb9f3a"
             ],
             [
              0.8888888888888888,
              "#fdca26"
             ],
             [
              1,
              "#f0f921"
             ]
            ],
            "type": "heatmapgl"
           }
          ],
          "histogram": [
           {
            "marker": {
             "pattern": {
              "fillmode": "overlay",
              "size": 10,
              "solidity": 0.2
             }
            },
            "type": "histogram"
           }
          ],
          "histogram2d": [
           {
            "colorbar": {
             "outlinewidth": 0,
             "ticks": ""
            },
            "colorscale": [
             [
              0,
              "#0d0887"
             ],
             [
              0.1111111111111111,
              "#46039f"
             ],
             [
              0.2222222222222222,
              "#7201a8"
             ],
             [
              0.3333333333333333,
              "#9c179e"
             ],
             [
              0.4444444444444444,
              "#bd3786"
             ],
             [
              0.5555555555555556,
              "#d8576b"
             ],
             [
              0.6666666666666666,
              "#ed7953"
             ],
             [
              0.7777777777777778,
              "#fb9f3a"
             ],
             [
              0.8888888888888888,
              "#fdca26"
             ],
             [
              1,
              "#f0f921"
             ]
            ],
            "type": "histogram2d"
           }
          ],
          "histogram2dcontour": [
           {
            "colorbar": {
             "outlinewidth": 0,
             "ticks": ""
            },
            "colorscale": [
             [
              0,
              "#0d0887"
             ],
             [
              0.1111111111111111,
              "#46039f"
             ],
             [
              0.2222222222222222,
              "#7201a8"
             ],
             [
              0.3333333333333333,
              "#9c179e"
             ],
             [
              0.4444444444444444,
              "#bd3786"
             ],
             [
              0.5555555555555556,
              "#d8576b"
             ],
             [
              0.6666666666666666,
              "#ed7953"
             ],
             [
              0.7777777777777778,
              "#fb9f3a"
             ],
             [
              0.8888888888888888,
              "#fdca26"
             ],
             [
              1,
              "#f0f921"
             ]
            ],
            "type": "histogram2dcontour"
           }
          ],
          "mesh3d": [
           {
            "colorbar": {
             "outlinewidth": 0,
             "ticks": ""
            },
            "type": "mesh3d"
           }
          ],
          "parcoords": [
           {
            "line": {
             "colorbar": {
              "outlinewidth": 0,
              "ticks": ""
             }
            },
            "type": "parcoords"
           }
          ],
          "pie": [
           {
            "automargin": true,
            "type": "pie"
           }
          ],
          "scatter": [
           {
            "marker": {
             "line": {
              "color": "#283442"
             }
            },
            "type": "scatter"
           }
          ],
          "scatter3d": [
           {
            "line": {
             "colorbar": {
              "outlinewidth": 0,
              "ticks": ""
             }
            },
            "marker": {
             "colorbar": {
              "outlinewidth": 0,
              "ticks": ""
             }
            },
            "type": "scatter3d"
           }
          ],
          "scattercarpet": [
           {
            "marker": {
             "colorbar": {
              "outlinewidth": 0,
              "ticks": ""
             }
            },
            "type": "scattercarpet"
           }
          ],
          "scattergeo": [
           {
            "marker": {
             "colorbar": {
              "outlinewidth": 0,
              "ticks": ""
             }
            },
            "type": "scattergeo"
           }
          ],
          "scattergl": [
           {
            "marker": {
             "line": {
              "color": "#283442"
             }
            },
            "type": "scattergl"
           }
          ],
          "scattermapbox": [
           {
            "marker": {
             "colorbar": {
              "outlinewidth": 0,
              "ticks": ""
             }
            },
            "type": "scattermapbox"
           }
          ],
          "scatterpolar": [
           {
            "marker": {
             "colorbar": {
              "outlinewidth": 0,
              "ticks": ""
             }
            },
            "type": "scatterpolar"
           }
          ],
          "scatterpolargl": [
           {
            "marker": {
             "colorbar": {
              "outlinewidth": 0,
              "ticks": ""
             }
            },
            "type": "scatterpolargl"
           }
          ],
          "scatterternary": [
           {
            "marker": {
             "colorbar": {
              "outlinewidth": 0,
              "ticks": ""
             }
            },
            "type": "scatterternary"
           }
          ],
          "surface": [
           {
            "colorbar": {
             "outlinewidth": 0,
             "ticks": ""
            },
            "colorscale": [
             [
              0,
              "#0d0887"
             ],
             [
              0.1111111111111111,
              "#46039f"
             ],
             [
              0.2222222222222222,
              "#7201a8"
             ],
             [
              0.3333333333333333,
              "#9c179e"
             ],
             [
              0.4444444444444444,
              "#bd3786"
             ],
             [
              0.5555555555555556,
              "#d8576b"
             ],
             [
              0.6666666666666666,
              "#ed7953"
             ],
             [
              0.7777777777777778,
              "#fb9f3a"
             ],
             [
              0.8888888888888888,
              "#fdca26"
             ],
             [
              1,
              "#f0f921"
             ]
            ],
            "type": "surface"
           }
          ],
          "table": [
           {
            "cells": {
             "fill": {
              "color": "#506784"
             },
             "line": {
              "color": "rgb(17,17,17)"
             }
            },
            "header": {
             "fill": {
              "color": "#2a3f5f"
             },
             "line": {
              "color": "rgb(17,17,17)"
             }
            },
            "type": "table"
           }
          ]
         },
         "layout": {
          "annotationdefaults": {
           "arrowcolor": "#f2f5fa",
           "arrowhead": 0,
           "arrowwidth": 1
          },
          "autotypenumbers": "strict",
          "coloraxis": {
           "colorbar": {
            "outlinewidth": 0,
            "ticks": ""
           }
          },
          "colorscale": {
           "diverging": [
            [
             0,
             "#8e0152"
            ],
            [
             0.1,
             "#c51b7d"
            ],
            [
             0.2,
             "#de77ae"
            ],
            [
             0.3,
             "#f1b6da"
            ],
            [
             0.4,
             "#fde0ef"
            ],
            [
             0.5,
             "#f7f7f7"
            ],
            [
             0.6,
             "#e6f5d0"
            ],
            [
             0.7,
             "#b8e186"
            ],
            [
             0.8,
             "#7fbc41"
            ],
            [
             0.9,
             "#4d9221"
            ],
            [
             1,
             "#276419"
            ]
           ],
           "sequential": [
            [
             0,
             "#0d0887"
            ],
            [
             0.1111111111111111,
             "#46039f"
            ],
            [
             0.2222222222222222,
             "#7201a8"
            ],
            [
             0.3333333333333333,
             "#9c179e"
            ],
            [
             0.4444444444444444,
             "#bd3786"
            ],
            [
             0.5555555555555556,
             "#d8576b"
            ],
            [
             0.6666666666666666,
             "#ed7953"
            ],
            [
             0.7777777777777778,
             "#fb9f3a"
            ],
            [
             0.8888888888888888,
             "#fdca26"
            ],
            [
             1,
             "#f0f921"
            ]
           ],
           "sequentialminus": [
            [
             0,
             "#0d0887"
            ],
            [
             0.1111111111111111,
             "#46039f"
            ],
            [
             0.2222222222222222,
             "#7201a8"
            ],
            [
             0.3333333333333333,
             "#9c179e"
            ],
            [
             0.4444444444444444,
             "#bd3786"
            ],
            [
             0.5555555555555556,
             "#d8576b"
            ],
            [
             0.6666666666666666,
             "#ed7953"
            ],
            [
             0.7777777777777778,
             "#fb9f3a"
            ],
            [
             0.8888888888888888,
             "#fdca26"
            ],
            [
             1,
             "#f0f921"
            ]
           ]
          },
          "colorway": [
           "#636efa",
           "#EF553B",
           "#00cc96",
           "#ab63fa",
           "#FFA15A",
           "#19d3f3",
           "#FF6692",
           "#B6E880",
           "#FF97FF",
           "#FECB52"
          ],
          "font": {
           "color": "#f2f5fa"
          },
          "geo": {
           "bgcolor": "rgb(17,17,17)",
           "lakecolor": "rgb(17,17,17)",
           "landcolor": "rgb(17,17,17)",
           "showlakes": true,
           "showland": true,
           "subunitcolor": "#506784"
          },
          "hoverlabel": {
           "align": "left"
          },
          "hovermode": "closest",
          "mapbox": {
           "style": "dark"
          },
          "paper_bgcolor": "rgb(17,17,17)",
          "plot_bgcolor": "rgb(17,17,17)",
          "polar": {
           "angularaxis": {
            "gridcolor": "#506784",
            "linecolor": "#506784",
            "ticks": ""
           },
           "bgcolor": "rgb(17,17,17)",
           "radialaxis": {
            "gridcolor": "#506784",
            "linecolor": "#506784",
            "ticks": ""
           }
          },
          "scene": {
           "xaxis": {
            "backgroundcolor": "rgb(17,17,17)",
            "gridcolor": "#506784",
            "gridwidth": 2,
            "linecolor": "#506784",
            "showbackground": true,
            "ticks": "",
            "zerolinecolor": "#C8D4E3"
           },
           "yaxis": {
            "backgroundcolor": "rgb(17,17,17)",
            "gridcolor": "#506784",
            "gridwidth": 2,
            "linecolor": "#506784",
            "showbackground": true,
            "ticks": "",
            "zerolinecolor": "#C8D4E3"
           },
           "zaxis": {
            "backgroundcolor": "rgb(17,17,17)",
            "gridcolor": "#506784",
            "gridwidth": 2,
            "linecolor": "#506784",
            "showbackground": true,
            "ticks": "",
            "zerolinecolor": "#C8D4E3"
           }
          },
          "shapedefaults": {
           "line": {
            "color": "#f2f5fa"
           }
          },
          "sliderdefaults": {
           "bgcolor": "#C8D4E3",
           "bordercolor": "rgb(17,17,17)",
           "borderwidth": 1,
           "tickwidth": 0
          },
          "ternary": {
           "aaxis": {
            "gridcolor": "#506784",
            "linecolor": "#506784",
            "ticks": ""
           },
           "baxis": {
            "gridcolor": "#506784",
            "linecolor": "#506784",
            "ticks": ""
           },
           "bgcolor": "rgb(17,17,17)",
           "caxis": {
            "gridcolor": "#506784",
            "linecolor": "#506784",
            "ticks": ""
           }
          },
          "title": {
           "x": 0.05
          },
          "updatemenudefaults": {
           "bgcolor": "#506784",
           "borderwidth": 0
          },
          "xaxis": {
           "automargin": true,
           "gridcolor": "#283442",
           "linecolor": "#506784",
           "ticks": "",
           "title": {
            "standoff": 15
           },
           "zerolinecolor": "#283442",
           "zerolinewidth": 2
          },
          "yaxis": {
           "automargin": true,
           "gridcolor": "#283442",
           "linecolor": "#506784",
           "ticks": "",
           "title": {
            "standoff": 15
           },
           "zerolinecolor": "#283442",
           "zerolinewidth": 2
          }
         }
        },
        "title": {
         "text": "RNN Architecture Performance Comparison"
        },
        "width": 1000,
        "xaxis": {
         "anchor": "y",
         "domain": [
          0,
          0.45
         ]
        },
        "xaxis2": {
         "anchor": "y2",
         "domain": [
          0.55,
          1
         ]
        },
        "yaxis": {
         "anchor": "x",
         "domain": [
          0,
          1
         ],
         "range": [
          0,
          0.8509532928466798
         ],
         "title": {
          "text": "Accuracy"
         }
        },
        "yaxis2": {
         "anchor": "x2",
         "domain": [
          0,
          1
         ],
         "range": [
          0,
          2.069146466255188
         ],
         "title": {
          "text": "Loss"
         }
        }
       }
      }
     },
     "metadata": {},
     "output_type": "display_data"
    }
   ],
   "source": [
    "plot_rnn_comparisons(simple_rnn_acc, lstm_acc, gru_acc, bilstm_acc)"
   ]
  },
  {
   "cell_type": "markdown",
   "metadata": {},
   "source": [
    "## Dataset-2 Test evaluation Graph"
   ]
  },
  {
   "cell_type": "code",
   "execution_count": 50,
   "metadata": {},
   "outputs": [
    {
     "data": {
      "application/vnd.plotly.v1+json": {
       "config": {
        "plotlyServerURL": "https://plot.ly"
       },
       "data": [
        {
         "hovertemplate": "<b>%{x}</b><br>Accuracy: %{y:.4f}<extra></extra>",
         "marker": {
          "color": [
           "#636EFA",
           "#EF553B",
           "#00CC96",
           "#AB63FA"
          ]
         },
         "name": "Accuracy",
         "text": [
          0.6071,
          0.9424,
          0.9483,
          0.9975
         ],
         "textposition": "auto",
         "type": "bar",
         "x": [
          "Simple RNN",
          "LSTM",
          "GRU",
          "BiLSTM"
         ],
         "xaxis": "x",
         "y": [
          0.6071126461029053,
          0.9424216747283936,
          0.948348879814148,
          0.9974597692489624
         ],
         "yaxis": "y"
        },
        {
         "hovertemplate": "<b>%{x}</b><br>Loss: %{y:.4f}<extra></extra>",
         "marker": {
          "color": [
           "#636EFA",
           "#EF553B",
           "#00CC96",
           "#AB63FA"
          ]
         },
         "name": "Loss",
         "text": [
          1.1063,
          0.2346,
          0.2231,
          0.0129
         ],
         "textposition": "auto",
         "type": "bar",
         "x": [
          "Simple RNN",
          "LSTM",
          "GRU",
          "BiLSTM"
         ],
         "xaxis": "x2",
         "y": [
          1.1063281297683716,
          0.23455387353897095,
          0.22305163741111755,
          0.012935057282447815
         ],
         "yaxis": "y2"
        }
       ],
       "layout": {
        "annotations": [
         {
          "font": {
           "size": 16
          },
          "showarrow": false,
          "text": "Model Accuracy Comparison",
          "x": 0.225,
          "xanchor": "center",
          "xref": "paper",
          "y": 1,
          "yanchor": "bottom",
          "yref": "paper"
         },
         {
          "font": {
           "size": 16
          },
          "showarrow": false,
          "text": "Model Loss Comparison",
          "x": 0.775,
          "xanchor": "center",
          "xref": "paper",
          "y": 1,
          "yanchor": "bottom",
          "yref": "paper"
         }
        ],
        "font": {
         "family": "Arial, sans-serif",
         "size": 12
        },
        "height": 500,
        "showlegend": false,
        "template": {
         "data": {
          "bar": [
           {
            "error_x": {
             "color": "#f2f5fa"
            },
            "error_y": {
             "color": "#f2f5fa"
            },
            "marker": {
             "line": {
              "color": "rgb(17,17,17)",
              "width": 0.5
             },
             "pattern": {
              "fillmode": "overlay",
              "size": 10,
              "solidity": 0.2
             }
            },
            "type": "bar"
           }
          ],
          "barpolar": [
           {
            "marker": {
             "line": {
              "color": "rgb(17,17,17)",
              "width": 0.5
             },
             "pattern": {
              "fillmode": "overlay",
              "size": 10,
              "solidity": 0.2
             }
            },
            "type": "barpolar"
           }
          ],
          "carpet": [
           {
            "aaxis": {
             "endlinecolor": "#A2B1C6",
             "gridcolor": "#506784",
             "linecolor": "#506784",
             "minorgridcolor": "#506784",
             "startlinecolor": "#A2B1C6"
            },
            "baxis": {
             "endlinecolor": "#A2B1C6",
             "gridcolor": "#506784",
             "linecolor": "#506784",
             "minorgridcolor": "#506784",
             "startlinecolor": "#A2B1C6"
            },
            "type": "carpet"
           }
          ],
          "choropleth": [
           {
            "colorbar": {
             "outlinewidth": 0,
             "ticks": ""
            },
            "type": "choropleth"
           }
          ],
          "contour": [
           {
            "colorbar": {
             "outlinewidth": 0,
             "ticks": ""
            },
            "colorscale": [
             [
              0,
              "#0d0887"
             ],
             [
              0.1111111111111111,
              "#46039f"
             ],
             [
              0.2222222222222222,
              "#7201a8"
             ],
             [
              0.3333333333333333,
              "#9c179e"
             ],
             [
              0.4444444444444444,
              "#bd3786"
             ],
             [
              0.5555555555555556,
              "#d8576b"
             ],
             [
              0.6666666666666666,
              "#ed7953"
             ],
             [
              0.7777777777777778,
              "#fb9f3a"
             ],
             [
              0.8888888888888888,
              "#fdca26"
             ],
             [
              1,
              "#f0f921"
             ]
            ],
            "type": "contour"
           }
          ],
          "contourcarpet": [
           {
            "colorbar": {
             "outlinewidth": 0,
             "ticks": ""
            },
            "type": "contourcarpet"
           }
          ],
          "heatmap": [
           {
            "colorbar": {
             "outlinewidth": 0,
             "ticks": ""
            },
            "colorscale": [
             [
              0,
              "#0d0887"
             ],
             [
              0.1111111111111111,
              "#46039f"
             ],
             [
              0.2222222222222222,
              "#7201a8"
             ],
             [
              0.3333333333333333,
              "#9c179e"
             ],
             [
              0.4444444444444444,
              "#bd3786"
             ],
             [
              0.5555555555555556,
              "#d8576b"
             ],
             [
              0.6666666666666666,
              "#ed7953"
             ],
             [
              0.7777777777777778,
              "#fb9f3a"
             ],
             [
              0.8888888888888888,
              "#fdca26"
             ],
             [
              1,
              "#f0f921"
             ]
            ],
            "type": "heatmap"
           }
          ],
          "heatmapgl": [
           {
            "colorbar": {
             "outlinewidth": 0,
             "ticks": ""
            },
            "colorscale": [
             [
              0,
              "#0d0887"
             ],
             [
              0.1111111111111111,
              "#46039f"
             ],
             [
              0.2222222222222222,
              "#7201a8"
             ],
             [
              0.3333333333333333,
              "#9c179e"
             ],
             [
              0.4444444444444444,
              "#bd3786"
             ],
             [
              0.5555555555555556,
              "#d8576b"
             ],
             [
              0.6666666666666666,
              "#ed7953"
             ],
             [
              0.7777777777777778,
              "#fb9f3a"
             ],
             [
              0.8888888888888888,
              "#fdca26"
             ],
             [
              1,
              "#f0f921"
             ]
            ],
            "type": "heatmapgl"
           }
          ],
          "histogram": [
           {
            "marker": {
             "pattern": {
              "fillmode": "overlay",
              "size": 10,
              "solidity": 0.2
             }
            },
            "type": "histogram"
           }
          ],
          "histogram2d": [
           {
            "colorbar": {
             "outlinewidth": 0,
             "ticks": ""
            },
            "colorscale": [
             [
              0,
              "#0d0887"
             ],
             [
              0.1111111111111111,
              "#46039f"
             ],
             [
              0.2222222222222222,
              "#7201a8"
             ],
             [
              0.3333333333333333,
              "#9c179e"
             ],
             [
              0.4444444444444444,
              "#bd3786"
             ],
             [
              0.5555555555555556,
              "#d8576b"
             ],
             [
              0.6666666666666666,
              "#ed7953"
             ],
             [
              0.7777777777777778,
              "#fb9f3a"
             ],
             [
              0.8888888888888888,
              "#fdca26"
             ],
             [
              1,
              "#f0f921"
             ]
            ],
            "type": "histogram2d"
           }
          ],
          "histogram2dcontour": [
           {
            "colorbar": {
             "outlinewidth": 0,
             "ticks": ""
            },
            "colorscale": [
             [
              0,
              "#0d0887"
             ],
             [
              0.1111111111111111,
              "#46039f"
             ],
             [
              0.2222222222222222,
              "#7201a8"
             ],
             [
              0.3333333333333333,
              "#9c179e"
             ],
             [
              0.4444444444444444,
              "#bd3786"
             ],
             [
              0.5555555555555556,
              "#d8576b"
             ],
             [
              0.6666666666666666,
              "#ed7953"
             ],
             [
              0.7777777777777778,
              "#fb9f3a"
             ],
             [
              0.8888888888888888,
              "#fdca26"
             ],
             [
              1,
              "#f0f921"
             ]
            ],
            "type": "histogram2dcontour"
           }
          ],
          "mesh3d": [
           {
            "colorbar": {
             "outlinewidth": 0,
             "ticks": ""
            },
            "type": "mesh3d"
           }
          ],
          "parcoords": [
           {
            "line": {
             "colorbar": {
              "outlinewidth": 0,
              "ticks": ""
             }
            },
            "type": "parcoords"
           }
          ],
          "pie": [
           {
            "automargin": true,
            "type": "pie"
           }
          ],
          "scatter": [
           {
            "marker": {
             "line": {
              "color": "#283442"
             }
            },
            "type": "scatter"
           }
          ],
          "scatter3d": [
           {
            "line": {
             "colorbar": {
              "outlinewidth": 0,
              "ticks": ""
             }
            },
            "marker": {
             "colorbar": {
              "outlinewidth": 0,
              "ticks": ""
             }
            },
            "type": "scatter3d"
           }
          ],
          "scattercarpet": [
           {
            "marker": {
             "colorbar": {
              "outlinewidth": 0,
              "ticks": ""
             }
            },
            "type": "scattercarpet"
           }
          ],
          "scattergeo": [
           {
            "marker": {
             "colorbar": {
              "outlinewidth": 0,
              "ticks": ""
             }
            },
            "type": "scattergeo"
           }
          ],
          "scattergl": [
           {
            "marker": {
             "line": {
              "color": "#283442"
             }
            },
            "type": "scattergl"
           }
          ],
          "scattermapbox": [
           {
            "marker": {
             "colorbar": {
              "outlinewidth": 0,
              "ticks": ""
             }
            },
            "type": "scattermapbox"
           }
          ],
          "scatterpolar": [
           {
            "marker": {
             "colorbar": {
              "outlinewidth": 0,
              "ticks": ""
             }
            },
            "type": "scatterpolar"
           }
          ],
          "scatterpolargl": [
           {
            "marker": {
             "colorbar": {
              "outlinewidth": 0,
              "ticks": ""
             }
            },
            "type": "scatterpolargl"
           }
          ],
          "scatterternary": [
           {
            "marker": {
             "colorbar": {
              "outlinewidth": 0,
              "ticks": ""
             }
            },
            "type": "scatterternary"
           }
          ],
          "surface": [
           {
            "colorbar": {
             "outlinewidth": 0,
             "ticks": ""
            },
            "colorscale": [
             [
              0,
              "#0d0887"
             ],
             [
              0.1111111111111111,
              "#46039f"
             ],
             [
              0.2222222222222222,
              "#7201a8"
             ],
             [
              0.3333333333333333,
              "#9c179e"
             ],
             [
              0.4444444444444444,
              "#bd3786"
             ],
             [
              0.5555555555555556,
              "#d8576b"
             ],
             [
              0.6666666666666666,
              "#ed7953"
             ],
             [
              0.7777777777777778,
              "#fb9f3a"
             ],
             [
              0.8888888888888888,
              "#fdca26"
             ],
             [
              1,
              "#f0f921"
             ]
            ],
            "type": "surface"
           }
          ],
          "table": [
           {
            "cells": {
             "fill": {
              "color": "#506784"
             },
             "line": {
              "color": "rgb(17,17,17)"
             }
            },
            "header": {
             "fill": {
              "color": "#2a3f5f"
             },
             "line": {
              "color": "rgb(17,17,17)"
             }
            },
            "type": "table"
           }
          ]
         },
         "layout": {
          "annotationdefaults": {
           "arrowcolor": "#f2f5fa",
           "arrowhead": 0,
           "arrowwidth": 1
          },
          "autotypenumbers": "strict",
          "coloraxis": {
           "colorbar": {
            "outlinewidth": 0,
            "ticks": ""
           }
          },
          "colorscale": {
           "diverging": [
            [
             0,
             "#8e0152"
            ],
            [
             0.1,
             "#c51b7d"
            ],
            [
             0.2,
             "#de77ae"
            ],
            [
             0.3,
             "#f1b6da"
            ],
            [
             0.4,
             "#fde0ef"
            ],
            [
             0.5,
             "#f7f7f7"
            ],
            [
             0.6,
             "#e6f5d0"
            ],
            [
             0.7,
             "#b8e186"
            ],
            [
             0.8,
             "#7fbc41"
            ],
            [
             0.9,
             "#4d9221"
            ],
            [
             1,
             "#276419"
            ]
           ],
           "sequential": [
            [
             0,
             "#0d0887"
            ],
            [
             0.1111111111111111,
             "#46039f"
            ],
            [
             0.2222222222222222,
             "#7201a8"
            ],
            [
             0.3333333333333333,
             "#9c179e"
            ],
            [
             0.4444444444444444,
             "#bd3786"
            ],
            [
             0.5555555555555556,
             "#d8576b"
            ],
            [
             0.6666666666666666,
             "#ed7953"
            ],
            [
             0.7777777777777778,
             "#fb9f3a"
            ],
            [
             0.8888888888888888,
             "#fdca26"
            ],
            [
             1,
             "#f0f921"
            ]
           ],
           "sequentialminus": [
            [
             0,
             "#0d0887"
            ],
            [
             0.1111111111111111,
             "#46039f"
            ],
            [
             0.2222222222222222,
             "#7201a8"
            ],
            [
             0.3333333333333333,
             "#9c179e"
            ],
            [
             0.4444444444444444,
             "#bd3786"
            ],
            [
             0.5555555555555556,
             "#d8576b"
            ],
            [
             0.6666666666666666,
             "#ed7953"
            ],
            [
             0.7777777777777778,
             "#fb9f3a"
            ],
            [
             0.8888888888888888,
             "#fdca26"
            ],
            [
             1,
             "#f0f921"
            ]
           ]
          },
          "colorway": [
           "#636efa",
           "#EF553B",
           "#00cc96",
           "#ab63fa",
           "#FFA15A",
           "#19d3f3",
           "#FF6692",
           "#B6E880",
           "#FF97FF",
           "#FECB52"
          ],
          "font": {
           "color": "#f2f5fa"
          },
          "geo": {
           "bgcolor": "rgb(17,17,17)",
           "lakecolor": "rgb(17,17,17)",
           "landcolor": "rgb(17,17,17)",
           "showlakes": true,
           "showland": true,
           "subunitcolor": "#506784"
          },
          "hoverlabel": {
           "align": "left"
          },
          "hovermode": "closest",
          "mapbox": {
           "style": "dark"
          },
          "paper_bgcolor": "rgb(17,17,17)",
          "plot_bgcolor": "rgb(17,17,17)",
          "polar": {
           "angularaxis": {
            "gridcolor": "#506784",
            "linecolor": "#506784",
            "ticks": ""
           },
           "bgcolor": "rgb(17,17,17)",
           "radialaxis": {
            "gridcolor": "#506784",
            "linecolor": "#506784",
            "ticks": ""
           }
          },
          "scene": {
           "xaxis": {
            "backgroundcolor": "rgb(17,17,17)",
            "gridcolor": "#506784",
            "gridwidth": 2,
            "linecolor": "#506784",
            "showbackground": true,
            "ticks": "",
            "zerolinecolor": "#C8D4E3"
           },
           "yaxis": {
            "backgroundcolor": "rgb(17,17,17)",
            "gridcolor": "#506784",
            "gridwidth": 2,
            "linecolor": "#506784",
            "showbackground": true,
            "ticks": "",
            "zerolinecolor": "#C8D4E3"
           },
           "zaxis": {
            "backgroundcolor": "rgb(17,17,17)",
            "gridcolor": "#506784",
            "gridwidth": 2,
            "linecolor": "#506784",
            "showbackground": true,
            "ticks": "",
            "zerolinecolor": "#C8D4E3"
           }
          },
          "shapedefaults": {
           "line": {
            "color": "#f2f5fa"
           }
          },
          "sliderdefaults": {
           "bgcolor": "#C8D4E3",
           "bordercolor": "rgb(17,17,17)",
           "borderwidth": 1,
           "tickwidth": 0
          },
          "ternary": {
           "aaxis": {
            "gridcolor": "#506784",
            "linecolor": "#506784",
            "ticks": ""
           },
           "baxis": {
            "gridcolor": "#506784",
            "linecolor": "#506784",
            "ticks": ""
           },
           "bgcolor": "rgb(17,17,17)",
           "caxis": {
            "gridcolor": "#506784",
            "linecolor": "#506784",
            "ticks": ""
           }
          },
          "title": {
           "x": 0.05
          },
          "updatemenudefaults": {
           "bgcolor": "#506784",
           "borderwidth": 0
          },
          "xaxis": {
           "automargin": true,
           "gridcolor": "#283442",
           "linecolor": "#506784",
           "ticks": "",
           "title": {
            "standoff": 15
           },
           "zerolinecolor": "#283442",
           "zerolinewidth": 2
          },
          "yaxis": {
           "automargin": true,
           "gridcolor": "#283442",
           "linecolor": "#506784",
           "ticks": "",
           "title": {
            "standoff": 15
           },
           "zerolinecolor": "#283442",
           "zerolinewidth": 2
          }
         }
        },
        "title": {
         "text": "RNN Architecture Performance Comparison"
        },
        "width": 1000,
        "xaxis": {
         "anchor": "y",
         "domain": [
          0,
          0.45
         ]
        },
        "xaxis2": {
         "anchor": "y2",
         "domain": [
          0.55,
          1
         ]
        },
        "yaxis": {
         "anchor": "x",
         "domain": [
          0,
          1
         ],
         "range": [
          0,
          1.0972057461738587
         ],
         "title": {
          "text": "Accuracy"
         }
        },
        "yaxis2": {
         "anchor": "x2",
         "domain": [
          0,
          1
         ],
         "range": [
          0,
          1.2169609427452088
         ],
         "title": {
          "text": "Loss"
         }
        }
       }
      }
     },
     "metadata": {},
     "output_type": "display_data"
    }
   ],
   "source": [
    "plot_rnn_comparisons(data2_simple_rnn_acc, data2_lstm_acc, data2_gru_acc, data2_bilstm_acc)"
   ]
  }
 ],
 "metadata": {
  "kernelspec": {
   "display_name": "venv",
   "language": "python",
   "name": "python3"
  },
  "language_info": {
   "codemirror_mode": {
    "name": "ipython",
    "version": 3
   },
   "file_extension": ".py",
   "mimetype": "text/x-python",
   "name": "python",
   "nbconvert_exporter": "python",
   "pygments_lexer": "ipython3",
   "version": "3.12.3"
  }
 },
 "nbformat": 4,
 "nbformat_minor": 2
}
